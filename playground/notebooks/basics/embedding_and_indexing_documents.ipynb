{
 "cells": [
  {
   "cell_type": "markdown",
   "id": "3e642b6aef1cc124",
   "metadata": {
    "collapsed": false
   },
   "source": [
    "# Bookline RAG Toy Playground\n",
    "\n",
    "This notebook demonstrates how to use the [OpenAI API](https://platform.openai.com) to embed documents and index them in a [Qdrant vector database](https://qdrant.tech/) and perform a similarity search on the indexed documents.\n",
    "\n",
    "In the train folder you have a small 15594 document database so that you can do some testing and get an intuition on how stuff works."
   ]
  },
  {
   "cell_type": "markdown",
   "id": "df1fda966199e230",
   "metadata": {
    "collapsed": false
   },
   "source": [
    "# Importing Libraries"
   ]
  },
  {
   "cell_type": "code",
   "execution_count": 1,
   "id": "initial_id",
   "metadata": {
    "ExecuteTime": {
     "end_time": "2024-04-13T04:42:51.581337Z",
     "start_time": "2024-04-13T04:42:50.312747Z"
    },
    "collapsed": true
   },
   "outputs": [],
   "source": [
    "import os\n",
    "import openai\n",
    "import qdrant_client\n",
    "from pathlib import Path"
   ]
  },
  {
   "cell_type": "code",
   "execution_count": 2,
   "id": "bb0fb0739309d3a2",
   "metadata": {
    "ExecuteTime": {
     "end_time": "2024-04-13T04:42:51.584425Z",
     "start_time": "2024-04-13T04:42:51.582533Z"
    },
    "collapsed": false
   },
   "outputs": [],
   "source": [
    "from qdrant_client.http.models import PointStruct\n",
    "from qdrant_client.http.models import VectorParams, Distance"
   ]
  },
  {
   "cell_type": "markdown",
   "id": "32ff4d631d61e93b",
   "metadata": {
    "collapsed": false
   },
   "source": [
    "# Global Variables\n",
    "\n",
    "We will define a few global variables here:\n",
    "\n",
    "- `BASE_DATA_DIR`: The base directory where the data is stored.\n",
    "- `EMBEDDING_MODEL`: The OpenAI embedding model to use for embedding the documents.\n",
    "- `COLLECTION_NAME`: The name of the Qdrant collection to store the documents.\n",
    "- `OPENAI_SECRET_KEY_FILE`: The path to a JSON file containing the OpenAI secret key.\n",
    "- `MAX_DOCUMENTS_TO_LOAD`: The maximum number of documents to load from the dataset."
   ]
  },
  {
   "cell_type": "code",
   "execution_count": 3,
   "id": "d2706e0d2334595e",
   "metadata": {
    "ExecuteTime": {
     "end_time": "2024-04-13T04:42:51.587676Z",
     "start_time": "2024-04-13T04:42:51.584965Z"
    },
    "collapsed": false
   },
   "outputs": [],
   "source": [
    "BASE_DATA_DIR = Path('../../data')\n",
    "EMBEDDING_MODEL = 'text-embedding-3-small'\n",
    "COLLECTION_NAME = \"my_document_collection\"\n",
    "OPENAI_SECRET_KEY_FILE = \"../../secrets/openai_api_key.json\"\n",
    "MAX_DOCUMENTS_TO_LOAD = 100"
   ]
  },
  {
   "cell_type": "code",
   "execution_count": 4,
   "id": "89f4d6f375ca7d55",
   "metadata": {
    "ExecuteTime": {
     "end_time": "2024-04-13T04:42:51.589705Z",
     "start_time": "2024-04-13T04:42:51.588237Z"
    },
    "collapsed": false
   },
   "outputs": [],
   "source": [
    "try:\n",
    "    openai_client\n",
    "except NameError:\n",
    "    openai_client = None"
   ]
  },
  {
   "cell_type": "markdown",
   "id": "84333f4bde905f1b",
   "metadata": {
    "collapsed": false
   },
   "source": [
    "# Helper Functions\n",
    "\n",
    "We will import the helper functions to load the data, get the OpenAI secret key, and embed the documents.\n",
    "The helper functions are defined in the `helper_functions.py` file."
   ]
  },
  {
   "cell_type": "code",
   "execution_count": 5,
   "id": "d14c24ea6830acf5",
   "metadata": {
    "ExecuteTime": {
     "end_time": "2024-04-13T04:42:51.698968Z",
     "start_time": "2024-04-13T04:42:51.590589Z"
    },
    "collapsed": false
   },
   "outputs": [],
   "source": [
    "from helper_functions import load_data, get_openai_api_key, embed_documents"
   ]
  },
  {
   "cell_type": "markdown",
   "id": "28ba0812644e84d",
   "metadata": {
    "collapsed": false
   },
   "source": [
    "# Loading the OpenAI secret key and Creating an In-Memory Qdrant Database\n",
    "\n",
    "We will load the OpenAI secret key from the `secrets/openai_api_key.json` file and create an in-memory Qdrant database to index the documents."
   ]
  },
  {
   "cell_type": "code",
   "execution_count": 6,
   "id": "9d2c8e83a4e54220",
   "metadata": {
    "ExecuteTime": {
     "end_time": "2024-04-13T04:42:51.719397Z",
     "start_time": "2024-04-13T04:42:51.699976Z"
    },
    "collapsed": false
   },
   "outputs": [],
   "source": [
    "if openai_client is None:\n",
    "    openai_client = openai.Client(\n",
    "        api_key=get_openai_api_key(OPENAI_SECRET_KEY_FILE),\n",
    "    )"
   ]
  },
  {
   "cell_type": "code",
   "execution_count": 7,
   "id": "4cd59b5587894359",
   "metadata": {
    "ExecuteTime": {
     "end_time": "2024-04-13T04:42:51.721944Z",
     "start_time": "2024-04-13T04:42:51.720237Z"
    },
    "collapsed": false
   },
   "outputs": [],
   "source": [
    "# In memory database creation\n",
    "qdrant_client = qdrant_client.QdrantClient(\":memory:\")"
   ]
  },
  {
   "cell_type": "markdown",
   "id": "27b4384fe30f92a5",
   "metadata": {
    "collapsed": false
   },
   "source": [
    "# Loading the Documents\n",
    "\n",
    "We will use the [feedback-prize-2021](https://www.kaggle.com/competitions/feedback-prize-2021/data) dataset from Kaggle as an example. To download the dataset, you can use the following command in the root directory of the project:\n",
    "\n",
    "`bash bin/download_kaggle_dataset.sh \"competition\" \"feedback-prize-2021\" \"data/input/kaggle_competitions/fp1\"`"
   ]
  },
  {
   "cell_type": "code",
   "execution_count": 8,
   "id": "1d84cf2791bb3fa",
   "metadata": {
    "ExecuteTime": {
     "end_time": "2024-04-13T04:42:51.908398Z",
     "start_time": "2024-04-13T04:42:51.722586Z"
    },
    "collapsed": false
   },
   "outputs": [],
   "source": [
    "data = load_data(BASE_DATA_DIR / 'db')[:MAX_DOCUMENTS_TO_LOAD]"
   ]
  },
  {
   "cell_type": "code",
   "execution_count": 9,
   "id": "70ba63fb8a59678d",
   "metadata": {
    "ExecuteTime": {
     "end_time": "2024-04-13T04:42:51.916053Z",
     "start_time": "2024-04-13T04:42:51.909310Z"
    },
    "collapsed": false
   },
   "outputs": [
    {
     "data": {
      "text/html": [
       "<div>\n",
       "<style scoped>\n",
       "    .dataframe tbody tr th:only-of-type {\n",
       "        vertical-align: middle;\n",
       "    }\n",
       "\n",
       "    .dataframe tbody tr th {\n",
       "        vertical-align: top;\n",
       "    }\n",
       "\n",
       "    .dataframe thead th {\n",
       "        text-align: right;\n",
       "    }\n",
       "</style>\n",
       "<table border=\"1\" class=\"dataframe\">\n",
       "  <thead>\n",
       "    <tr style=\"text-align: right;\">\n",
       "      <th></th>\n",
       "      <th>id</th>\n",
       "      <th>text</th>\n",
       "    </tr>\n",
       "  </thead>\n",
       "  <tbody>\n",
       "    <tr>\n",
       "      <th>0</th>\n",
       "      <td>3321A3E87AD3</td>\n",
       "      <td>I do agree that some students would benefit fr...</td>\n",
       "    </tr>\n",
       "    <tr>\n",
       "      <th>1</th>\n",
       "      <td>DFEAEC512BAB</td>\n",
       "      <td>Should students design a summer project for sc...</td>\n",
       "    </tr>\n",
       "    <tr>\n",
       "      <th>2</th>\n",
       "      <td>2E4AFCD3987F</td>\n",
       "      <td>Dear State Senator\\n\\n,\\n\\nIn the ruels of vot...</td>\n",
       "    </tr>\n",
       "    <tr>\n",
       "      <th>3</th>\n",
       "      <td>EB6C2AF20BFE</td>\n",
       "      <td>People sometimes have a different opinion than...</td>\n",
       "    </tr>\n",
       "    <tr>\n",
       "      <th>4</th>\n",
       "      <td>A91A08E523D5</td>\n",
       "      <td>Dear senator,\\n\\nAs you know the Electoral Col...</td>\n",
       "    </tr>\n",
       "  </tbody>\n",
       "</table>\n",
       "</div>"
      ],
      "text/plain": [
       "             id                                               text\n",
       "0  3321A3E87AD3  I do agree that some students would benefit fr...\n",
       "1  DFEAEC512BAB  Should students design a summer project for sc...\n",
       "2  2E4AFCD3987F  Dear State Senator\\n\\n,\\n\\nIn the ruels of vot...\n",
       "3  EB6C2AF20BFE  People sometimes have a different opinion than...\n",
       "4  A91A08E523D5  Dear senator,\\n\\nAs you know the Electoral Col..."
      ]
     },
     "execution_count": 9,
     "metadata": {},
     "output_type": "execute_result"
    }
   ],
   "source": [
    "data.head()"
   ]
  },
  {
   "cell_type": "markdown",
   "id": "85965448aa118dfc",
   "metadata": {
    "collapsed": false
   },
   "source": [
    "# Embedding the Documents\n",
    "\n",
    "We will embed the documents using OpenAI's API using the `text-embedding-3-small` model."
   ]
  },
  {
   "cell_type": "code",
   "execution_count": 10,
   "id": "8e75583cdcf035d",
   "metadata": {
    "ExecuteTime": {
     "end_time": "2024-04-13T04:42:54.997308Z",
     "start_time": "2024-04-13T04:42:51.916839Z"
    },
    "collapsed": false
   },
   "outputs": [],
   "source": [
    "embeddings = embed_documents(data['text'], openai_client, EMBEDDING_MODEL)"
   ]
  },
  {
   "cell_type": "code",
   "execution_count": 11,
   "id": "8c63270d734b7ef8",
   "metadata": {
    "ExecuteTime": {
     "end_time": "2024-04-13T04:42:55.002170Z",
     "start_time": "2024-04-13T04:42:54.998497Z"
    },
    "collapsed": false
   },
   "outputs": [
    {
     "data": {
      "text/plain": [
       "[-0.008226783946156502,\n",
       " -0.013497698120772839,\n",
       " 0.01179460994899273,\n",
       " 0.060780055820941925,\n",
       " 0.06498292833566666,\n",
       " -0.013740171678364277,\n",
       " -0.02018304169178009,\n",
       " 0.005063080228865147,\n",
       " 0.009854820556938648,\n",
       " 0.06174995005130768]"
      ]
     },
     "execution_count": 11,
     "metadata": {},
     "output_type": "execute_result"
    }
   ],
   "source": [
    "embeddings.data[0].embedding[:10]"
   ]
  },
  {
   "cell_type": "code",
   "execution_count": 12,
   "id": "a90b755854e04103",
   "metadata": {
    "ExecuteTime": {
     "end_time": "2024-04-13T04:42:55.008135Z",
     "start_time": "2024-04-13T04:42:55.003212Z"
    },
    "collapsed": false
   },
   "outputs": [],
   "source": [
    "data_with_embeddings = data.copy()\n",
    "data_with_embeddings['embedding'] = embeddings.data"
   ]
  },
  {
   "cell_type": "code",
   "execution_count": 13,
   "id": "99911abd6d7def93",
   "metadata": {
    "ExecuteTime": {
     "end_time": "2024-04-13T04:42:55.030828Z",
     "start_time": "2024-04-13T04:42:55.009493Z"
    },
    "collapsed": false
   },
   "outputs": [
    {
     "data": {
      "text/html": [
       "<div>\n",
       "<style scoped>\n",
       "    .dataframe tbody tr th:only-of-type {\n",
       "        vertical-align: middle;\n",
       "    }\n",
       "\n",
       "    .dataframe tbody tr th {\n",
       "        vertical-align: top;\n",
       "    }\n",
       "\n",
       "    .dataframe thead th {\n",
       "        text-align: right;\n",
       "    }\n",
       "</style>\n",
       "<table border=\"1\" class=\"dataframe\">\n",
       "  <thead>\n",
       "    <tr style=\"text-align: right;\">\n",
       "      <th></th>\n",
       "      <th>id</th>\n",
       "      <th>text</th>\n",
       "      <th>embedding</th>\n",
       "    </tr>\n",
       "  </thead>\n",
       "  <tbody>\n",
       "    <tr>\n",
       "      <th>0</th>\n",
       "      <td>3321A3E87AD3</td>\n",
       "      <td>I do agree that some students would benefit fr...</td>\n",
       "      <td>Embedding(embedding=[-0.008226783946156502, -0...</td>\n",
       "    </tr>\n",
       "    <tr>\n",
       "      <th>1</th>\n",
       "      <td>DFEAEC512BAB</td>\n",
       "      <td>Should students design a summer project for sc...</td>\n",
       "      <td>Embedding(embedding=[-0.0008782672230154276, 0...</td>\n",
       "    </tr>\n",
       "    <tr>\n",
       "      <th>2</th>\n",
       "      <td>2E4AFCD3987F</td>\n",
       "      <td>Dear State Senator\\n\\n,\\n\\nIn the ruels of vot...</td>\n",
       "      <td>Embedding(embedding=[0.040929023176431656, 0.0...</td>\n",
       "    </tr>\n",
       "    <tr>\n",
       "      <th>3</th>\n",
       "      <td>EB6C2AF20BFE</td>\n",
       "      <td>People sometimes have a different opinion than...</td>\n",
       "      <td>Embedding(embedding=[0.04807731509208679, -0.0...</td>\n",
       "    </tr>\n",
       "    <tr>\n",
       "      <th>4</th>\n",
       "      <td>A91A08E523D5</td>\n",
       "      <td>Dear senator,\\n\\nAs you know the Electoral Col...</td>\n",
       "      <td>Embedding(embedding=[0.04964446648955345, -0.0...</td>\n",
       "    </tr>\n",
       "  </tbody>\n",
       "</table>\n",
       "</div>"
      ],
      "text/plain": [
       "             id                                               text  \\\n",
       "0  3321A3E87AD3  I do agree that some students would benefit fr...   \n",
       "1  DFEAEC512BAB  Should students design a summer project for sc...   \n",
       "2  2E4AFCD3987F  Dear State Senator\\n\\n,\\n\\nIn the ruels of vot...   \n",
       "3  EB6C2AF20BFE  People sometimes have a different opinion than...   \n",
       "4  A91A08E523D5  Dear senator,\\n\\nAs you know the Electoral Col...   \n",
       "\n",
       "                                           embedding  \n",
       "0  Embedding(embedding=[-0.008226783946156502, -0...  \n",
       "1  Embedding(embedding=[-0.0008782672230154276, 0...  \n",
       "2  Embedding(embedding=[0.040929023176431656, 0.0...  \n",
       "3  Embedding(embedding=[0.04807731509208679, -0.0...  \n",
       "4  Embedding(embedding=[0.04964446648955345, -0.0...  "
      ]
     },
     "execution_count": 13,
     "metadata": {},
     "output_type": "execute_result"
    }
   ],
   "source": [
    "data_with_embeddings.head()"
   ]
  },
  {
   "cell_type": "markdown",
   "id": "1954b0914ca898dc",
   "metadata": {
    "collapsed": false
   },
   "source": [
    "# Indexing the Documents in Qdrant Database\n",
    "\n",
    "We will index the documents in the Qdrant database with the document embeddings and the document text as the payload.\n",
    "By saving our embeddings as the vectors we can make vectorial based queries to relate our query with the documents in our database."
   ]
  },
  {
   "cell_type": "code",
   "execution_count": 14,
   "id": "29417af2136f0380",
   "metadata": {
    "ExecuteTime": {
     "end_time": "2024-04-13T04:42:55.046252Z",
     "start_time": "2024-04-13T04:42:55.033699Z"
    },
    "collapsed": false
   },
   "outputs": [],
   "source": [
    "points = [\n",
    "    PointStruct(\n",
    "        id=idx,\n",
    "        vector=data.embedding,\n",
    "        payload={\"text\": text},\n",
    "    )\n",
    "    for idx, (data, text) in enumerate(zip(data_with_embeddings['embedding'], data_with_embeddings['text']))\n",
    "]"
   ]
  },
  {
   "cell_type": "code",
   "execution_count": 15,
   "id": "722f71aa8088e3e1",
   "metadata": {
    "ExecuteTime": {
     "end_time": "2024-04-13T04:42:55.062609Z",
     "start_time": "2024-04-13T04:42:55.047456Z"
    },
    "collapsed": false
   },
   "outputs": [
    {
     "data": {
      "text/plain": [
       "UpdateResult(operation_id=0, status=<UpdateStatus.COMPLETED: 'completed'>)"
      ]
     },
     "execution_count": 15,
     "metadata": {},
     "output_type": "execute_result"
    }
   ],
   "source": [
    "qdrant_client.create_collection(\n",
    "    COLLECTION_NAME,\n",
    "    vectors_config=VectorParams(\n",
    "        size=1536,\n",
    "        distance=Distance.COSINE,\n",
    "    ),\n",
    ")\n",
    "\n",
    "qdrant_client.upsert(COLLECTION_NAME, points)"
   ]
  },
  {
   "cell_type": "markdown",
   "id": "90b5d75257a7cd70",
   "metadata": {
    "collapsed": false
   },
   "source": [
    "# Searching for Similar Documents\n",
    "\n",
    "Let's search for similar documents to a sample query. We will use cosine similarity and limit the search results to 3 documents with a similarity (or score) threshold of 0.1 or higher."
   ]
  },
  {
   "cell_type": "code",
   "execution_count": 16,
   "id": "f56b584055d889af",
   "metadata": {
    "ExecuteTime": {
     "end_time": "2024-04-13T04:42:55.489863Z",
     "start_time": "2024-04-13T04:42:55.063520Z"
    },
    "collapsed": false
   },
   "outputs": [],
   "source": [
    "query = \"technology in schools\"\n",
    "\n",
    "results = qdrant_client.search(\n",
    "    collection_name=COLLECTION_NAME,\n",
    "    query_vector=openai_client.embeddings.create(\n",
    "        input=[query],\n",
    "        model=EMBEDDING_MODEL,\n",
    "    ).data[0].embedding,\n",
    "    limit=20,\n",
    "    score_threshold=0.1,\n",
    ")"
   ]
  },
  {
   "cell_type": "code",
   "execution_count": 17,
   "id": "88e825302389b144",
   "metadata": {
    "ExecuteTime": {
     "end_time": "2024-04-13T04:42:55.499930Z",
     "start_time": "2024-04-13T04:42:55.491551Z"
    },
    "collapsed": false
   },
   "outputs": [
    {
     "data": {
      "text/plain": [
       "[ScoredPoint(id=26, version=0, score=0.4816395354927998, payload={'text': 'Many Public and private schools have advanced in many ways throughout the past decade. Schools all around the world have weaved technology advancements into the classroom and outside of the class room to help get students more actively involved in school related activities and lessons. Technology is a blessing and curse, which means it helps teachers teach but also in certain aspects it worsens the attention span of younger children. Diving deeper into this world-wide technology advancement that is happening, there is this one main question that gets asked quite a lot by administrators all around the world, \"Would students work harder and better if they could attend classes from home virtually online or through video conferencing?\" My full opinion to that is, no. Studies show that almost 97% of people work better in a room full of other peers, although the isolation and focus you may have at your own home is nice and relaxing, in order for a person to fully develop into a knowledgeable student they have to have, social skills, community awareness, and be able to understand eye-to-eye learning. You\\xa0can truly only achieve these three skills if you attend school physically, not virtually, that is why students would not benefit at all through at home learning than they would at school.\\n\\nIn order for all students to successfully climb up the social ladder, they need to have one major trait that can help all peers make connections, bonds, and even relationships, this skill is called social skills. There was a study done at Workman State College where scientist studied students who stayed home for the whole school day and then studied students who actually went to school for the whole day. Both groups of students were learning the same material, the group at home got a video of their\\xa0teacher explaining everything exactly\\xa0the same as\\xa0what she taught in class. Half of students at home did not talk to a single person the whole day that they were at home, meanwhile, the students at school had many conversations with other peers and teachers. Throughout the day, the students who stayed at home lost 10% of there overall social communication skills and did worse on a pop quiz about the information that was being taught by their teacher. This study exemplifies that if you were to stay at home and miss even just one day of school you would miss out on many social lessons like peer project and even just normal conversations that are experiences that can strengthen you socially for the future.\\n\\nWhile being at school you do not just learn about how to solve for \\'x\\' in mathematics\\xa0or who won the Mexican-American War, students subconsciously grow and learn more about their community throughout grade school. There is this whole other community aspect of learning going on that most do not even notice. What is truly important about getting up in the morning and going to a gigantic building filled with hundreds of people is that it is filled with family, friends, neighbors, and even strangers. Meeting all of these people and learning new things about them can really strengthen the school-wide community connections. Advancements with technology also help us by letting students connect with other people in their community, but technology also doesnt help us if we are letting students attend classes online through video conferences. Doing so would cause a major lack of enthusiasm and relationships within a community. Going home independently and working on classwork without getting the chance to learn about your teacher or other classmates through this safe environment at school, causes a total downfall on community awareness.\\n\\nGoing to school everyday and seeing you teachers and classmates is a prime and simple example of eye-to-eye learning. Eye-to-eye learning is basically being with another person in real life, not over a screen, and actually talking and learning form them. Almost every kid remembers at least one first day of school memory when they were little or even this past year. Well, that connection you made with other students and your teacher was an official eye-to-eye connection made. Unlike looking at a screen four hours on end while being taught, having the physical opportunity to talk to your teacher either in a whole class discussion or one-on-one is much more effective than an email or text message. There was a study done by the Freelance College in North Dakota, many certified scientist studied the difference between learning through videos on a screen at home or being at school learning through a teacher. Both groups were taught the same thing and took a ten question test\\xa0on the lesson that the teacher had taught. The statistics showed that students who stayed at home had a test average of 75%, while students who went to school had a test average of 97% The students who worked on the computer at home had a shorter attention span because their teacher was physically not at their\\xa0house teaching them, thus caused the at home students to do poorly on the test. Overall, this study clearly shows that students learn exceptionally better with eye-to-eye discussion in real life at school. Being able to communicate with a teacher one-on-one or in a class discussion really makes a positive change in the students academic performance.\\n\\nAlthough being at home is a quiet place to focus, in order for a student to fully develop into a successful person you have to have, social skills, community awareness, and be able to understand eye-to-eye learning. The way successors achieve these three skills easily is if you attend actual classes and school related events, students would not benefit anymore at home through virtual learning anymore than they do at school. Even though there are so many technology advancements, schools world-wide need to realize that many staying simple is better and that students must always attend classes in person in order to achieve greatness in the future   \\xa0 \\xa0'}, vector=None, shard_key=None),\n",
       " ScoredPoint(id=95, version=0, score=0.4678590710606967, payload={'text': \"I think using this technology in a classroom would be a huge breakthrough. Teachers wouldn't have to work as hard to figure out what he or she needs to do to help a student learn what they need to learn. This technology can tell what their emotional state is when in the classroom. If they are bored they might not like the way their teacher is teaching them. So the teacher can modify the way she teaches that specific lesson, so that the student has a better attitude toward that subject.\\n\\nThis technology can also help councelers talk to the students that might be having personal problems like bullies, or family issues at home. Kids wouldn't be able to hide their emotions as well with this techlology being in every classrom. For example with a false smile the mouth is stretched sideways using the zygomatic major, and another muscle called the risorius. You cant download the software on a normal computer, so schools would have to pay for the device its-self. It would be extremely expensive but it would help many students in classrooms, or some that need counceling.\\n\\nHumans perform this type of calculation every day, for instance when you ask a friend if they are ok, because they look depressed or angry. We can perform this calculation as accurately as the current technology we have now. For example Leonardo da Vinci used this type of calculation and knew exactly how her face needed to look in order to get the emotions he was looking for.\\n\\nIn conclusion this technology has many benefits for students and children that need counceling for personal problems, and or family problems at home.                                 \"}, vector=None, shard_key=None),\n",
       " ScoredPoint(id=74, version=0, score=0.4611546608679834, payload={'text': \"Teachers can have a hard time telling if their students are ingaged and focused. Students can be disingaged and a teacher wouldn't know. With technology, such as teh Facial Action Coding Systm, teachers can see how their students are feeling about the classroom. They can see how they feel about the material they are learning and the work they are given.\\n\\nWhen a teacher is trying to find a new method to use when teaching, it can be hard to see how the students feel. They could like it or hate it. Most students like to keep their emotions to themsleves. Using this technology would give the teacher the oportunity to see how their class might feel about the material or lesson that they are trying ot teach. It can also show you if a student might be confused. There emotion will change and you can tell if they aren't understanding something going on in the class.\\n\\nIn conclusion, his technology can change the way things are in the classroom. If a teacher can know how their students are feeling, they can improve the way they teach. If they improve the way they teach, students will be more ingaged. If studenets are more ingaged, then they are most likely to learn what is being taught and understand it.\"}, vector=None, shard_key=None),\n",
       " ScoredPoint(id=18, version=0, score=0.4575509651974101, payload={'text': 'Technology runs rampant in this modern age. Some embrace it, some fear it, but most people accept it as a tool- a means to an end- and a way to make life easier. This tool most notably affects the lives of the youngest generation, since they grew up surrounded by screens. Texting, typing, and searching are all second nature to Generation Z. As \"Gen Z\" grows, the world grows around it, moving and adapting with an increased reliability on technology. New traditions, inventions, and methods rise to meet a technologically advanced society. In schools, (the territory of Gen Z), there is an influx of \\'distance learning,\\' or online classes. These courses are an amazing benefit to students because they offer a wider variety of subjects, cater to students\\' ambitions, and allow for students\\' physical limitations.\\n\\nAcross America, small, understaffed schools struggle to teach their students. While these schools can offer essential classes, such as academic English, history, sciences, and mathematics, some are unable to provide more flavorful classes like creative writing, human geography, or computer science. Some schools even struggle to teach advanced core classes, such as honors, IB, or AP. This is because such specific or advanced classes require qualified and specialized teachers- a resource some areas simply do not have. This restricts these students, since they cannot take classes relating to their personal interests, or classes with college credit. Through distance learning, these students could have the opportunity to take classes their schools don\\'t offer. This benefit isn\\'t restricted to underprivileged areas, however. Specialized teachers (or even professors) provide courses on a wide variety of interesting, challenging subjects that are not found in high schools, or even most colleges. Students can take online courses from influential entities like NASA and Microsoft, and earn college credit at the same time. Distance learning dramatically increases the scope of education and gives students learning opportunities they would not find otherwise.\\n\\nSome students have bigger goals than their schedules allow. In my sophomore year, I decided that I wanted to take AP Physics in my senior year. This meant that I had to take a physics course in my junior year, but I did not have enough room in my schedule, since I also needed to take economics to graduate, and I wanted to take chemistry. I notified my counselor and decided to take my Economics/Personal Finance class online, and free up an extra slot. In the spring of sophomore year, I was taking eight classes, instead of the standard seven. While this added to my workload, it enabled me to take both physics and chemistry in my junior year, and AP Physics my senior year. With distance learning, I expanded my schedule and took classes that interested me, and not just classes that were required.\\n\\nOutside of ambitions and location limitations, some students are physically unable to attend classes they enjoy. Life often takes control, and injuries or illnesses stop students from attending school, or taking more rigorous classes. My aunt has a physical illness that makes it very hard for her to attend stimulating events. Things like concerts, birthday parties, and movies all overwhelm her senses and cause tics and seizures. This manifested in her junior year of high school, and she was out of school for all of second semester. This would have severely harmed her chances of getting into college or graduating on time. Fortunately, she was able to get tutors and supplementary courses, so she was able graduate, and even got a large scholarship for her grades. Her last few years of high school were long and difficult because she could only learn when she was feeling well enough to interact with another person. Her illness dictated her schooling by limiting her ability to talk to people and listen to pages turn. Unfortunately, this was before online classes were widespread or accessible. If she had taken online courses, she would have been able to do work and study, even when she was unable to talk to people. Her same situation is reflected across countless lives- students\\' bodies are unable to handle the school environment, so they struggle to get the same education as their in-school counterparts. Distance learning helps to alleviate this issue by providing a self-paced environment with the same material, testing, and teachers, without the taxing physical environment.\\n\\nPerhaps the largest issue raised regarding distance learning is time management. Teenagers are notorious for procrastination, which leaves two options- easier courses or millions of disappointed parents. The self-paced nature of online classes provide seemingly endless opportunities to stave off work in favor of video games. However, this is a non issue. Students taking online classes face the same requirements as their in-school classmates, just through a different medium. While it is much easier to avoid work without a teacher present, students\\' grades will still reflect their effort and performance. Just like in a normal classroom setting, hard work is rewarded, and procrastination results in failure. Students using distance learning will effectively learn time management and responsibility if they want to succeed. If a student is likely to fail in an online class, they are just as likely to fail in a classroom setting. It\\'s all mindset.\\n\\nDistance learning is on a rise, fueled by a boom in technology. Some schools embrace it, and some reject it. Either way, distance learning is a huge benefit to students. With a longer list of course options, openings for schedule flexibility, and a broader availability to physically restrained students, online courses help students to learn and grow, and pick up good time management skills along the way.\\xa0'}, vector=None, shard_key=None),\n",
       " ScoredPoint(id=22, version=0, score=0.45580366306438824, payload={'text': \"The Internet is Building a Stronger Workforce\\n\\nCOVID-19 is spreading across the world. Now this disease\\xa0has killed more people than influenza has this year. Epidemiologists for the CDC are recommending that colleges across the country shut down their campuses and revert to online school so that they disperse the student population to lower the chances of the students getting infected. This suggestion has been readily accepted in colleges throughout the country. Soon public schools could follow the colleges' lead. More and more public schools are introducing a plethora of online classes. Many students are now able to do classwork and take assessments online as well as conference with their teachers from the comfort of their home. Students would benefit from online school through more direct, one on one learning with teachers, building each students aptitude with technology for their future participation in the workforce, and allowing students with a variety of ailments to continue their education at home.\\n\\nFirst of all, with online classes students would be able to interact with their teachers on a more personal level. Currently, if a student needs help with homework or a concept that they are struggling with, most often, they will have to come and see their teacher before or after school. Some students simply do not have that availability to see their teacher or are too embarrassed to ask their teacher during the class session. With classes being taken online, the student could simply email the teacher privately to work out a time to video conference their teacher for help. This simple interaction with teachers would show that students could go to their teachers more easily and would feel more comfortable when asking questions. With this increase of inquiries, scores in the grade book could go up, increasing parental and student satisfaction. Due to the introduction of online education, teacher-student interaction would become easier and more common.\\n\\nSecond of all, Students would be able to become build their technological skills parallel to learning new material. Many employers in this hyper-technological world are looking for employees that will be able to keep up with new technologies as well as help their business grow. While students are at school, they have access to technology, but this access is limited and most often very basic for most people. If schools' education was offered online, many students would rapidly become accommodated with new and more complex programs and applications. Teachers could require logging of time spent studying on spreadsheets, or taking screen shots of\\xa0research, as well as\\xa0making projects on three-dimensional design software for every student that they have. So many things in the classroom would have to be transferred online, making students who graduate highly valued to any employer looking to hire somebody. Highschool students who become adept at using online applications would be beneficial for a student and future employers.\\n\\nThird of all, any student that has to stay at home or be hospitalized due to a sickness would be able to continue their education. Throughout the year every school has a variety of issues, but one issue can truly devastate an education. If a student that is a tenth grader comes to school with what they think is a minor cold and goes about their entire day, many students would interact with this sophomore and soon all of these students would be home sick. Due to the transmission\\xa0those classes would only have half the students it should have. This issue is morbidly obvious. However true this issue is, disease cannot spread through technology. Any students taking these online courses would be safe from any other students who are sick. This would allow schools' education to run with a little more grease on their axles. Due to students having an online education many students who become sick would not have to pause their education for any amount of time.\\n\\nIn order to address those opposed, it is understandable for anyone to do so, but not forgivable. Many would say that the students would lose their friends, that they might become awkward, and that students might even cheat on assessments. All of these are understandable, but they are not without solution. Schools would be getting rid of their on campus schooling but would still host extracurricular activities and sporting events, along with gym classes, as well as dances and pep rallies. This would help retain student friendships at school. Students cheating on assessments has been a problematic in all school systems for years, writing on your arms and hands, looking at a friend's\\xa0paper to see which bubbles they filled in, or even feverishly copying someone's homework in the hallways outside of a class. While online learning may be a good fix for a lot of these issues it could open up new problems as well. Students could use their phones to search for answers to a variety of tests or share their answers with friends via text message. Their is no end to the creativity of someone who wants to cheat on an assignment, that is why a student's parent could supervise the student on each test and let the teacher know that the student was honest. This would be an easy way of reassurance for all instructors.\\n\\nIn conclusion, online school for students could be greatly\\xa0beneficial. Through one on one interaction with teachers, spurring more inquiries from pupils, becoming more proficient with technology at school and in the workplace, and allowing students who are afflicted with disease, and sometimes an injury, to attend school. Online school would benefit many students in this modern world. Now do what you think is right, go to a school board meeting, or sign a petition, because once we make this change, the Virginian education system will be stronger than any other state's. Now that isn't able to be said every day.\"}, vector=None, shard_key=None),\n",
       " ScoredPoint(id=29, version=0, score=0.4525166500192186, payload={'text': \"With daily advances in technology, the education system is shifting towards a more modern approach: going online. Students are no longer opening their textbooks, but now it's their laptops that are cracking open. While online school seems to be full of positives, the negatives such as the social aspect of school missing, the escape from at-home problems that students rely on school for, and the inconsistency of technology are some big red flags opposing the switch.\\n\\nGeneric_Name's school has turned completely online. She is halfway through high school, and the new and sudden change is drastically effecting her. Now that her curriculum is online she is not able to see her friends during school, and the lack of social interaction is starting to effect her mental health. She feels depressed, but does not want to draw attention to herself for ask for help because she feels like she has no one anymore. School is more than math class, and English projects. School is a way for students to connect with other people.\\n\\nGeneric_Name spends most of his days out of the house away from his computer. Since Generic_Name has no one to check up on him to make sure his\\xa0assignments get done he simply does not complete them. Generic_Name is now in danger of not graduating. He has an IEP plan, that, while he physically went to school, granted him a teacher's aide in all of his classrooms. He formed a close bond with that teacher and the teacher helped keep him on task. Generic_Name now spends his time on other things, like leisure activities and seeing his friends. Students who need extra help would not find online school beneficial, and it would be difficult for them to keep up with their intrinsic motivation to learn without that extra push from an outside source. School itself is mentally taxing, but can provide a physical escape for students as well.\\n\\nGeneric_Name is the oldest of five , and has to share a room with her younger sister. They often fight and bicker and sometimes Generic_Name just needs a break. She often will go to a friends house, but her biggest escape is school. Being away from all the drama at home for hours at a time really helps Generic_Name, and helps her reset before spending the evening with her siblings . She is calmer and more patient with her siblings when she goes to school. But Generic_Name's county has shifted all the schools to online, and all day Generic_Name has to help her siblings with homework questions and looking after them all. Whether their home life is great or not so great it is a way to just leave the house and expel energy.\\n\\nGeneric_Name and his father do not get along very well. Generic_Name is an only child, and his mother is not in his life. His father takes out a lot of his frustration out on Generic_Name, ad Generic_Name loathes being at home. Normally he would spend as much time as he could away from his house, participating in after-school clubs, coming into school early, and just going places with his friends. But now his school is online. So he is constantly inside of the area that gives him his stress and anxiety and it is not good for him. Generic_Name feels as if he is walking on pins and needles all the time. School is a get away for students. Having school online does not work for every family\\xa0dynamic.\\n\\nProblems at home are not always with another person, rather they could be with technology.\\n\\nGeneric_Name\\xa0spilled creme soda all over his laptop. His computer is out of commission for a week and he has no way to complete his assignments or email his teacher to explain what is going on. Generic_Name has a test this week that is worth a very large percentage of his grade, and he needs to have his laptop to be able to do it. This problem will cause\\xa0Generic_Name's\\xa0grade in\\xa0the class to drop dramatically if his laptop is at the repair shop. Technology is too inconsistent to rely on outside of the classroom on a large scale.\\n\\nGeneric_Name's family cannot afford for her to have her own personal laptop. Her schooling is now being conducted only online however, and she is having difficulties keeping up with her schooling. She relies on the public library for computer access, but it isn't always open when she needs it to be, and she cannot video chat with her professors there. Generic_Name's grades are plummeting but she feels like she has no control over the situation. She has decided to get a job in order to pay for her own laptop, but her job drastically cuts into her schooling. She needs the hours to acquire the laptop but her balance between work and school isn't working and she doesn't know what to do.\\n\\nSwitching to online school can cause new stress on students.\\n\\nSome could argue that online school could be beneficial to students by ways transportation. In climate\\xa0weather, over crowding in schools, and just day to day traffic causes back-ups and problems in students getting to school on time. Students wake up late, and are caught up with adults trying to make it to work or miss the\\xa0bus and must ask a parents for a ride. However making it necessary for children to come to school teaches students independence and self-reliance, clears all distractions away from students by having them sit in a classroom, and allows time for students to ask teachers questions about topics that they do not understand before class begins, giving the student one-on-one time. Having students stay home, gives them no accountability besides to themselves, which does not guarantee attendance to school. Students can sleep in, not turn on their computers and no one is there to check them.\\n\\nHaving school online would not be beneficial to students. Children's needs are to diverse and learning styles so drastic that to conform the millions of students in the U.S. alone to one way of learning is unrealistic and unhelpful. Children need the peer-to-peer interaction, the escape from their households, and the constituency of resources that school provides.\\xa0Personal learning tailored to every student works best for equal education for every child, not having them stuck behind a screen.\"}, vector=None, shard_key=None),\n",
       " ScoredPoint(id=92, version=0, score=0.41061823350088394, payload={'text': 'School is not exactly something everyone looks forward to nowadays. Teenagers are depressed, anxious, and some incredibly sick. It is so difficult to avoid some of the negative things in life when a student is constantly surrounded by peer pressure and bullying. If given the choice, many students would most likely choose to skip school and stay at home. However, if a student was given the option to attend classes from home, it would be beneficial. This is because\\xa0it allows those who get sick to stay caught up and protects those who get bullied and assaulted in school.\\n\\nFirst, online classes by way of video conference are very helpful to those who are sick because they are still able to be taught by a teacher. Many students come into school even if they are sick. This causes an illness to spread around the entire student body just because one student couldn\\'t miss class. On the other hand, if a student stays home because they are sick, they miss a lot of classwork and aren\\'t able to pay attend the important lessons being taught. One time, I had to stay home because of a stomach bug. I got behind in my classes and was never really able to understand the concepts as well as I could have if I was taught by my teacher like everyone else. I got a very bad grade on the test on these concepts because I was not able to catch up. If I was able to call in to my missed classes, I would have benefited greatly because I could ask questions if I had any, hear the teacher\\'s explanation, and see how the teacher would solve the problem instead of having to figure it all out on my own. On a more serious level, there are some kids who are, unfortunately, terminally ill. They are either physically unable to go to school because of their type of illness or aren\\'t allowed to go out very often because of the risks and dangers they could face. They are more prone to your typical cold and flu, and it is deadlier for them. If they were able to sit in on their classes through a video conference, then they could still feel like they are going to high school like a \"normal\" teenager. Overall, even if attending classes online was only available to those who are sick, it would still help so many kids.\\n\\nVideo conferences and attending classes online are also beneficial to a different demographic, those who are bullied and assaulted. To protect those who fear going to school because they are constantly putting themselves in danger, the school could give them this option of learning from home. There are so many stories of kids getting beat up at school and the school not trying to fix things or not being able to fix things, and this is a way that the schools can help be a part of the solution. There are also numerous stories of students getting sexually assaulted and raped. These students go through every day, trying to avoid those horrible people who did this horrible thing to them, wondering why they have to put in so much work just so this doesn\\'t happen to them again. The book\\n\\nSpeak brings a lot of light on this issue. The main character goes through this avoiding process and, in the end, is unable to completely avoid her rapist. She finds it extremely difficult to see him in school, acting as if he hasn\\'t done anything wrong. If she was given the option to do online schooling, I bet she would have done it in a heartbeat. She dreaded going to school every day and this extra option would have been a godsend for her. Sometimes, you have to take things into your own hands, and if that means making the decision to do schooling from home, then you do what you gotta do.\\n\\nSome may say that students and teenagers need a chance to socially interact with others, and school helps provide that. But, everyone has people they interact with outside of school. Whether it be in the neighborhood or at church, there are many other ways to get your social fix in. Take home-schooled kids, for example. They might be home alone all day trying to get their schoolwork done, but home-schooled students\\xa0have these groups called co-ops. These co-ops are groups of other students that are home-schooled that come to learn altogether. This helps those who are home-schooled get themselves some time with other students.\\n\\nThere are many benefits to having another option for students who are sick and kids who get assaulted and bullied. Many of today\\'s societal issues, whether it be new illnesses spreading or more and more students getting hurt and going to school in fear, affect a teenager\\'s school life. The less focused we are on the issues going on outside of school, the more we are able to focus on what could impact our future. School is vital to our future in today\\'s world, and the administration needs to realize that there are things taking away our focus from school. Teenagers are the future of this world, and the past generations need to realize that things are different that they were in their time. Would you want your children to go to school living in fear? Well, they already are.'}, vector=None, shard_key=None),\n",
       " ScoredPoint(id=27, version=0, score=0.39976776870336006, payload={'text': \"Yes i believe students should be allowed to bring cell phones to school. most students need to talk to there parents some time threw out the day while there at school because most play sports and need to see if they have a ride. I also believe that they should let students because if they say you are allowed then they probably will not get it out as often because they wouldn't be as tempting. It may even help with the problems they have to try to work out with the teacher about finding a ride or wonting to ride home with some one else such as a friend. iv often had problems were i didn't know who to ride home with or what to do and it forced me to sneak out my phone and text my parents because 98 percent out of the time the teacher teals you to wait till your next class but that teacher says the same thing. It really isn't that big of a problem at our school,\\n\\nnot many of the students have phones or cant afford. Another reason is because when you are on break or at lunch you have a lot of free time and usually nothing to do, but with that rule changed they could play games on there phones or show other students pictures they have taken, I also see why the rule is no phones. im sure there will be some students try to say there phone got stolen or they lost it or some one broke it and stuff but that stuff doesn't happen often if you are acting mature. But if the rule happened to be changed then it would keep a lot of problems from starting.\"}, vector=None, shard_key=None),\n",
       " ScoredPoint(id=49, version=0, score=0.39694848959802387, payload={'text': 'Some people say distance learning is a waste of time and is not effective, when really, online schooling is becoming more popular as technology advances. Being able to succeed in an education from home is something that is often necessary. Being able to complete school work from home is helpful to not only students, but the school systems too. This way of learning makes sure students that are not able to physically attend school still get their share of education. Distance learning can be beneficial to students recovering from a major operation, or a severe social problem.\\n\\nSerious injuries happen involving students attending school more than you think. Some of these injuries require a major operation, causing the student to miss weeks of school and instruction time. Yes, parents can pick up the work that their child missed and bring it home, but doing this results in the child not knowing how to do the work. If they were not there when the lesson was taught, they would never be able to figure out the concept. If the student was told they would be out for 8 weeks due to surgery, they could quickly transfer to a distanced learning program. This way, they could video chat and speak to a teacher live. This would allow the student to get thorough instructions explained to them clearly, and help with any material they simply do not understand. Without this type of program, students would fall into a deep hole of confusion.\\n\\nAlthough everyone can get a little nervous in front of a large group of people, some people just cannot possibly function in large groups. Some students were born with bad cases of social anxiety, or other illnesses causing them to be socially awkward. For students like this, a home schooling online class would be the best way to educate them. Yes, they would still have to speak face to face with a\\xa0teacher through video chat, that is only one person compared to a school of a thousand people. This would end the fears of students dreading to go to school each day. They could get their work done in peace, and not have thoughts of everyone watching them in their head. This would lead to them not getting easily distracted from education. Although, letting a student choose to avoid public school because of a social problem is not preparing them for the future; If the student does not focus in school due to the surrounding people, The good education they would get online is more important.\\n\\nWith reasoning as to why distance learning is beneficial, it should be looked at by more people and become a popular alternative. Everyone should have the right to know about this option and its details because online schooling might be a good choice for them. This alternative could benefit many more people than it already does. School systems would be looked at better with a higher passing rate and higher scores. Although distance learning is more of a process to get into, it would be beneficial to the ones suffering from major operations or social problems like many students enrolled in school today.\\xa0   \\xa0 \\xa0 \\xa0 \\xa0 \\xa0 \\xa0 \\xa0 \\xa0'}, vector=None, shard_key=None),\n",
       " ScoredPoint(id=45, version=0, score=0.3793831487780243, payload={'text': \"Dear principal,\\n\\nI really think you should go with policy one. because kids in school will start to take them out anyway and you will have to take tons of phones away. The students will not be happy with policy one because it prohibits all cell phones. Cell phones do not cause controversy. if you were to take cell phones away completely it will make kids in your school create riots. They will be angry at teachers for not allowing people to have their phones out during lunch hours.\\n\\nI really think you should allow cell phones on campus. As long as they do not take them out in class it should be ok. Also some parents tell their kids to never turn their phone off in case of emergency. i really think that is a big deal. What if something is going on at home and they need you to know about it as soon as possible. You would have no idea what happened until you left school and got home. Something really severe could have happened during that time.\\n\\nAnother reason you should allow cell phones as in policy one is that if you didn't allow them at all and anybody took them out they would be taken. Kids would be really angry. They would start to go on riots and get extremely mad at the principal for allowing this rule. Nobody in your school would be happy and it would be torn apart. Sometimes kids have medicine and their parents have to contact them but they would not be able to because of the policy.\\n\\nPlease allow kids to have their cell phones out during passing periods and lunch time. It would save the school so much grief. The kids in your school would like to be there. But also now how the times are you have touch screens and unlimited internet search and things like that. People would go crazy because they cant do all that during passing periods and lunch.\\n\\nWhen you would get home you would spend all of your time on your phone and not doing homework. So please i say once more, allow kids to use their phones during passing periods and lunch.\\n\\nsincerely,\\n\\nSTUDENT_NAME\"}, vector=None, shard_key=None),\n",
       " ScoredPoint(id=89, version=0, score=0.3756511454947099, payload={'text': 'There are some schools that provide students the opportunity to learn with distance learning. There are various ways a student is able to take their classes from home, including video conferencing and online modules. Many people do not take the offer of distance learning. However, attending class from home benefits students by\\xa0providing\\xa0more efficient learning experiences, allowing them to focus on what they love, and growing their time management skills.\\n\\nSchool from home is more efficient than a physical school. At my high school, there are breaks built into the day: seven minutes after class, 30 minutes for lunch, and 30 minutes to relax. Over an hour of the day is used that does not benefit the education of a student. The time that is used for these breaks would be eliminated if a student took their classes from home. A student taking the course online would finish with the same knowledge as a student that is not; however, they will finish faster. The elimination of unnecessary breaks makes the learning experience more efficient.\\n\\nAs the student has a more efficient learning experience, they have more time to do things they love. My friend Generic_Name, for example, is a Youth Olympics speed skater who has been taking online classes for four years. Taking online school provides Generic_Name the time to dedicate his efforts into speed skating. Without the opportunity of online school, he would not be as successful as he is now. With the extra time that comes with online school, any person has the opportunity to thrive in what they are passionate in.\\n\\nSome people may claim that online school makes a student lazy because they will procrastinate. However, as a student takes their classes from home, they build beneficial time management skills. In high school, for example, I took an online course for personal finance and economics. There was work due every week; however, all of the assignments were officially due at the end of the school year. Splitting up the work every week until the final deadline helped build the time management skills needed for success in the future. Additionally, the online course provided students with a general guide to split up work to help them manage their time. This helps build a foundation to grow time management skills. Online school, overall, has deadlines and tools that help a student build time management skills.\\n\\nOnline school is an opportunity that will help the student thrive. It cuts out factors in a physical school that do not help the education of a student. With those factors, like unnecessary\\xa0breaks, eliminated, there is more time for the learners to thrive in other areas. Additionally, online school provides a foundation for the students to learn more important life skills, like time management. From the various impacts from attending classes from home, the students will benefit from the experience of an online school.'}, vector=None, shard_key=None),\n",
       " ScoredPoint(id=96, version=0, score=0.3734439334671152, payload={'text': \"Dear principal,\\n\\nyou should let the students use them during free time and lunch. The students are American citizens too. The teachers are aloud to use theirs and so should the students. We are equal in rights. If the students will only be aloud to use them during free periods then so should the teachers. We wouldn't have to break the rules if there was no rules to break. So if they were aloud then nobody would try to sneak it all the time during classes. If you made it so that cell phone were banned from the school then a lot of people would need to use the school phones so that they could get rides home and things like that. phones are useful to the student body and if they were taken away then it would be very inconvenient. And since we are all equal then you would have to leave yours at home too and all the teachers would not be aloud either. So the better option is definitely to let the students use them during there free classes. We would be really grateful of you if you could be so nice as to let us keep them. plus if they were banned how would you check every student to make sure that they didn't have a phone with them?\\n\\nsincerely,\\n\\nthe student body\"}, vector=None, shard_key=None),\n",
       " ScoredPoint(id=34, version=0, score=0.35765924697284907, payload={'text': 'Some people think that taking classes from home is a easy way to study without having to leave\\xa0home. While others think that students would not be able to learn as much as they would attending to school. For some this is a big deal while others justify this as a modern way to study. Technology could be helpful for some but not everyone in terms of studying. Most people think that schools should not adopt such way of education. People say that this is not the best way for study. The reasons people say that studying from is not a good way to study, is because students would not be inspired to do their work,not everyone has access to internet,teachers would help the\\xa0students more in person That through a computer.\\n\\nOne of the reasons people are saying that studying from home is not a good idea\\xa0that students would no be inspired. Meaning that being studying from\\xa0home they would not have the same environment as in school. Assisting to school\\xa0would help students to focus in what they do. They would do better seeing other students working. Walking around school during free time and seeing projects made by others students could help students to be more creative. Talking to others students and sharing experiences would make students to put more effort. People say that an inspired mind creates great things.\\n\\nAnother reason people argue is because not everyone has access to internet. Either due to economic or others type of reasons not everyone counts with access to a computer. Having some students taking classes from home while others who also want but can not because they do not have access to Internet does not seems good. Some students have to work in order to either pay their bills or buy things that they need and can not afford to have a internet\\xa0source. There could be paces where getting good\\n\\nInternet connection could be tough because of the location or weather. This issue have people saying that access to internet is a problem when it comes to study from home.\\n\\nOne more reason is than teachers would help the students more in person than trough the computer. Talking to though computer is not the same as\\xa0talking in person .People say that students would best understand things their teachers teach them in person because they would explain with more details. Some also say that interacting with the teacher would help students confidence and learning. Some teachers have different way to teach and help the student to fully understand the topics. Students would experiment best learning by having their teacher in front of them or by their side.\\n\\nMeanwhile people still argue about this issue and that\\xa0should be a way to solve it. Attending classes from from is not alway a good idea beacuse students would not be inspired,not averyone has acces to internet,and teachers would help students more in person. With all said we can conclud that the best way to study is by attending to school and no from home.'}, vector=None, shard_key=None),\n",
       " ScoredPoint(id=17, version=0, score=0.34699342508784703, payload={'text': \"Dear Principle,\\n\\nPolicy 1 should be chosen. Policy 2 should not be chosen because some students have to have their phones with them at school, their parents require them to. Also for some students their phones are the only way they know how they are getting home after school.\\n\\nPolicy 1 should be chosen because at school students are concentrating and working hard all day. They only get one hour of brake (lunch) and four minutes between each class (passing period). While they are on brake it would be nice if they could take out their phone and be able to text or do whatever they want. As long as they are completely off in the classroom. The only reason students aren't aloud to have phones during school is to prevent cheating (during lunch and passing periods, cheating really isn't an issue.) and to keep the phone from ringing and disrupting the class. If they had their phones during brakes and the teacher made sure the phone was completely off during class time, then it would not be an issue.\\n\\nIf policy 1 was chosen it would keep everyone from braking the rules. They only reason students text during class and have their phone on during class is because they don't have a specific time they are aloud to use their phones. If they had a specific time they could use their phone, they wouldn't need to text in class.\\n\\nChoosing policy 1 would also make the students' grades increase. Whenever they are texting in class they aren't paying attention to the teacher. If they had a time they were aloud to use phones, they wouldn't need to text in class, so they would pay attention to the teacher, which in turn would raise their grades, making the school, teacher, and principle look good.\\n\\nSome students don't do their work because they get lazy and they don't have anything to look forward to. If they were aloud to have their phones out during passing periods they would have something to look forward to so they would keep doing their work in order to be able to get out their phone.\\n\\nSincerely,\\n\\nStudent\"}, vector=None, shard_key=None),\n",
       " ScoredPoint(id=43, version=0, score=0.3454597656112023, payload={'text': 'With the rise of technology in schools, many questions arise.\\n\\nOne major question is, would students benefit more from an online classroom setting, and video conference classes.\\n\\nOr would they benefit more from a normal classroom setting.\\n\\nI believe that most students would benefit more in a regular classroom setting, because the atmosphere in a normal classroom is completely different from one online, students also learn better with hands on learning and training.\\n\\nLastly, it seems for many of my classmates, including myself, that it is much easier to get work done for an \"in school\" class.\\n\\nBeing in a real classroom is completely different from an online classroom in many ways.\\n\\nI can tell you from experience being in a real classroom has benefited me in lots of ways.\\n\\nI\\'ve faced and overcome my fear of public speaking in a real classroom.\\n\\nI\\'ve also always been the one to retaliate when someone makes me mad, but being in a classroom with other students that pick on you and mess with you has taught me that not everyone and everything needs a response.\\n\\nI would dare say that being in a classroom setting has made me more mature, and has prepared me for the future.\\n\\nAlthough some students do well with passive learning; I believe most students do best by learning with hands on activities.\\n\\nI once read an article that had a statistic in it saying that 70 percent of students learn better with hands on activities.\\n\\nWhere only 30 percent learned better with passive learning.\\n\\nOnline classes prevent students from learning with hands on activities.\\n\\nI am in an AP Statistics class this year, and I do best when the teacher shows us what to do.\\n\\nI often do worse when he just gives us steps to follow, and then tells us to complete the task.\\n\\nI would also say that my fellow classmates agree with me.\\n\\nIn my history class, my teacher often teaches in a passive way.\\n\\nHe tells us what happened and doesn\\'t give us worksheets or classwork to do.\\n\\nHe stands up at the front of the classroom the entire class period, tells us about the certain unit we are on, then at the end of the period he gives us a homework assignment that we have to complete.\\n\\nI feel like that is much of online learning is like, and I can tell you that most of the kids in my class don\\'t do well with that type of learning.\\n\\nGetting work done for online classes is much harder compared to a classroom setting.\\n\\nIn some online courses you don\\'t have to do your classwork by a certain time of the day.\\n\\nYou just have to have it done by a certain day of the week.\\n\\nI know how I procrastinate and how my classmates do the same thing, and I think being in a real classroom provides more motivation to get work done and succeed in the class.\\n\\nIt is also easier to review past concepts from previous classes in a classroom setting compared to an online classroom, because in real a classroom you can interact with other students and bring ideas to the teacher to review.\\n\\nIn online classes you may not always be able to do that.\\n\\nTo conclude, I do believe that some students learn better passively, but I also believe more students learn better in a classroom setting with hands on activities.\\n\\nStudents benefit from building relationships with their teachers, which turn into their mentors.\\n\\nStudents learn better by working together in groups, and in return that teaches them to work better with other people.\\n\\nFinally, being enrolled in an normal classroom provides more motivation for students to get their work done, and succeed in the class, which at the end of the day is the whole point of taking the class right?'}, vector=None, shard_key=None),\n",
       " ScoredPoint(id=30, version=0, score=0.334070410659953, payload={'text': 'The Facial Action Coding System, or better known as FACS, is a new technological advancement that can detect how a person is feeling. It holds promising applications for a variety of different things.\\n\\nProf. Thomas Huang collaborated with Prof. Nicu Sebe to innovate this technology. The Facial Action Coding System is a very complex.\\n\\nIt recognizes the muscles in the face and compares them to a neutral face; this is how the system can tell if you are feeling happy or sad. Eckman, the creator of FACS, organized six different emotions for the system to recognize. These feelings are, happiness, surprise, anger, disgust, fear, and sadness. The computer constructs a 3-D model of the face and identifies muscles such as, the orbicularis oris, which tightens your lips to show anger. This action is very similar to what we as humans do every day, except this is much more accurate.\\n\\nI am for this technology becuase I think that it could help our students fully understand the material better. Every student learns differently, and that can make lessons more challenging for some more than others. The Facial Action Coding System could potentially modify the lesson to make it easier. I also think that this type of technology is important for students that have trouble focusing. The system could potentially make the lesson more exciting; this would possibly help the student focus better. It could also help the world of animation. Dr. Huang predicts that it could make computer-animated faces more expressive; this would be helpful for video surgery. FACS can do so much more for the technological world, making it useful in many different aspects.       '}, vector=None, shard_key=None),\n",
       " ScoredPoint(id=67, version=0, score=0.3284631647016619, payload={'text': \"Working at home would rather than working in school is beneficial for students learning. Online classes help kids who like to work quickly on assignments\\xa0and students who need more time on things. Working at home allows you to wake up any time and get your work done. Also distance learning is beneficial for students who get sick. Although students who don't have access to WIFI at home may be a problem. Overall being able to work from home is more beneficial for students.\\n\\nFirst it is a fact that some students pick things up faster than others. Working at home would be good for both learners. The people who work faster can move quickly through assignments\\xa0and get their things done. While the people who work slower can take there time and not feel pressured by other students. That feeling when you are the last one working on a quiz is not a good feeling. It just makes you feel like you need to hurry up an finish because everyone is finished. You won't need to worry about that when you are at home by youeself working.\\n\\nNext waking up early in the morning and coming to school begins to get annoying. Some mornings you wake up with a lot of energy and are ready to go to school. And sometimes you just feel like laying in bed a little longer to get some more rest. With distance learning you can wake up at anytime and start your school work. And won't haft to worry about being late or missing the school bus.\\n\\nFinally distance learning is beneficial for students when they are sick and stay home. Some students stay home so that they don't get other people sick. If they stay home they still can get their work done online. A great example for this is the current virus that is going around coronavirus. Staying at home will lower the rates of this virus spreading which means you have a lower chance of getting it. Distance learning will help you stay healthy and stay on top of your school work.\\n\\nIn conclusion distance learning\\xa0is a very effective way to learn. And it is beneficial\\xa0for students to be able\\xa0to take classes from home. Schools should offer distance learning to all of their students. And distance learning is an great idea for many diffrent reasons.   \\xa0 \\xa0 \\xa0 \\xa0   \\xa0 \\xa0 \\xa0 \\xa0\"}, vector=None, shard_key=None),\n",
       " ScoredPoint(id=32, version=0, score=0.3215608106305142, payload={'text': 'Everyone looks forward to the long break before school starts again called summer. But, as we are away from school for so long, some of the knowledge we have accumulated over the school year will not be encoded properly and by the time school starts up again, it will have already been forgotten. That is why some schools require their students to complete summer projects, to ensure that they are still learning during summer. The question is if their summer projects should be designed by the teacher or the student. I believe the projects should be designed by the teacher. The teacher has prior experience, more knowledge, and more time to design the project.\\n\\nIf the student is required to create this assignment, then they should be given preporation time during the school year to ask questions to see what the expectations are for the project. Since a teacher has already taught the course, it should be easier for them to come up with easy to follow directions, so that the student will not be challenged too hard and will enjoy learning the topic. They also have past experience with the summer project, so they know the most efficent way the project should be set up.\\n\\nIn order to design the summer project you would need plenty of time, which many students do not have extra time on their plates to handle the pressure of designing this summer assignment. In my case, every spare second is spent cramming for a quiz or test, or spent reviewing a topic I did not quite understand. If I had the option to create a summer project or complete a teacher-designed project, I would choose the teacher based one. It would assure me that I would be learning everything correctly and take the pressure out of my hands.\\n\\nIf I had to design a project about a topic I knew nothing about, I would be put in a huge disadvantage. The teacher has more knowledge on the subject the summer project is on; therefore, they have a slight advantage. They will know how to word things properly and not over-simplify the directions. A student might make the project too simple and not take it too seriously. They will not have any supervision on the creating process and when school comes around their project might not be eligible for submission. When I had to do the summer enrichment packets for my advanced placement classes over the summer, I had no knowledge about the topics I was learning about. I would have been at such a disadvantage if I had to create a summer project all on my own, based off information I barely knew.\\n\\nThe schools should let the students continue learning over their break, by allowing them to complete teacher-designed summer projects. These projects will be made based of prior knowledge and experience, reassuring the student that they will be learning the correct information, the proper way. The students will be able to procede with their studies the right way over summer break.\\xa0'}, vector=None, shard_key=None),\n",
       " ScoredPoint(id=1, version=0, score=0.315294401508063, payload={'text': \"Should students design a summer project for school? Yes students should design the summer project. Plenty of students would get their projects done; it'll be better understanding and easier on the students. I believe the summer project should be designed by the students because the students are going to be able to choose what is going to helped them over the break with their summer projects like making it fun to do maybe with friends, family members, or anything to get your summer projects done.\\n\\nMore students would turn in the summer projects. From school experiences when students come back from their summer break plenty of students don't have their summer projects because students don't like the books they have to choose from. The project should be fun for students its their summer break it should be fun and about things they like and turn it an essay about what they did over the summer. The summer project should be designed by students so more students could turn in their projects when they arrive back to school from their break.\\n\\nStudents would be interested in doing them if they were designed by the students. If the project would be student designed it would be much easier for students because the student will have to find something that interested in and what they like and also it would make it much better because the students would have to talk about a couple things that helped them with doing the summer project. Summer projects should be a little fun, better than the way a teacher would design the summer project. Students could make it creative and fun it doesn't have to be boring. Students like to do fun things with school not always just doing work that's boring.\\n\\nIt would help if getting a couple students from different grade levels to talk about the summer project. The students would talk about what is going to be needed for the project. Students are going to agree and disagree about what they dont like about the way the teacher designed the summer projects and turn it into somethings students like and an easier and fun way for students to do their summer projects. Getting experiences from other students on what they like and don't about the teacher way of designing the project is helpful, so the students know what they should be looking for when designing the project for students.\\n\\nI believe that the students should design the summer project in a fun and creative way instead of reading books and telling things about the book, therefore more students can get them done. I could see why it should be teacher designed because teachers know exactly what their looking towards when trying to help students see their problems in certain areas, but students understand things more when it's coming from experience.\\xa0\"}, vector=None, shard_key=None),\n",
       " ScoredPoint(id=31, version=0, score=0.3127100463614514, payload={'text': \"Why I agree we should have extracurricular activities at our school\\n\\nRobotics, SCA, year book, cooking club, ceramics? Do any of these peek your interest? If so, then maybe a extracurricular activity is for you. There is a broad selection of clubs, teams ,and groups you could pick from to be a part of. Being involved in an extracurricular activity could be good for all of us in many ways, but there are 3 main reasons why I agree with having them in our school. The first way is you can make new friends, that one go to your school ,and two like the same things as you. The Second way is you can be introduced to something you haven't heard of, and could end up finding a liking for it. Finally, for some students it will keep them entertained when school is over with ,and they dont have anything to do after school. Finding something 1 you like, 2 you can do with your friends, and 3 is right at your school with no need for transportation, is a great thing every student should be able to have.\\n\\nMaking new friends with similar interest\\n\\nMaking friends in middle school let alone any school is sometimes a tough thing to do. Many people struggle with finding things that connect them and there friends. After all that is what make a lot\\xa0of friendships happen, the liking of something similar. So what better way to find friends then doing something you like after school, with at first maybe people you dont know, but have the same liking as you, to then being a friend with the same liking\\xa0as you. I know even sometimes kids that aren't shy have a hard time making friends. Maybe thats because they dont know where to start other than,hi my name is ... i am .... i have ... my favorite... and so on. That kind of conversation can't go on forever, but if they have something to already talk about like basketball for example, you can go right off those starter sentences right into a real discussion. In middle school making connections and making friends is\\xa0just the start of what we are going to be doing it for the rest of our lives, so why not become good at it now.\\n\\nFinding something new\\n\\nMany students play sports outside of school like basketball,soccer,football, and more, but i'm sure most of them are good at more than just one thing. Thats where extracurricular activities can play a role. This gives students a chance to experiment and try new things that they think they might enjoy. If someone is a really good leader on the court or field, always cheering on a teammate or helping them out,then maybe they could do that for our school in the SCA. You don't even have to be good at something to try it out, extracurricular activities is a place to have fun learn new things and try new things. You never know if you will like it till you try it. The school offers many different activities and if you dont seem to find one you like there is always the option to start you own club. All you need to do is get a group of friends ( five or more) and a teacher to sponsor it. Being part of a team group or club can be good for anyone,and everyone, even if you already have a team, another cant hurt. So maybe this year try something new, be part of a different team, find a new group, or bring some good ideas too a new club.\\n\\nEntertainment after school\\n\\nThink about it. What do you do after school? I'm sure a lot\\xa0of you said I play video games,or I go on my phone,or I relax, and I'm sure there is a point when your like I'm so board. Well I have your answer. Extracurricular activity! Yep thats right,extracurricular activity is right after school so that means you dont need to be driven to the school after you already left, you can just stay for a fun filled time with others. This can be very good for a lot\\xa0of kids in many ways, because sometimes when students go home they stay on there electronics/ devices all the way till they have to go to bed! Sometimes even without a break. Thats no way to spend a day when you have a great alternet like extracurricular activity time. The best part is when you get home after your extracurricular activity and your parents tell you to do your homework ,or do some chores ,you can just say well I just got home from school and need some time to relax. This is also good for kids that just go home and hop on there devices/electronics,because there is not any real social aspect to that,no real human interaction which everyone needs. So try it our sometime, it can't hurt and maybe you will even really enjoy it.\\n\\nHaving a chance to making new friends with similar interest ,Find something new, and having after school entertainment is a very good thing that other schools should try for there students. Because it gives kids with no opportunity, opportunity, kids that need new friends, a chance to make new friends,and people who dont have anything to do after school something to do after school. There are also so many things and activities\\xa0to choose from you couldn't go wrong with any decision you make. This is why I agree with having after school extracurricular activities and I hope you do too.\\xa0\\xa0 \\xa0   \\xa0   \\xa0\\xa0\"}, vector=None, shard_key=None)]"
      ]
     },
     "execution_count": 17,
     "metadata": {},
     "output_type": "execute_result"
    }
   ],
   "source": [
    "results"
   ]
  },
  {
   "cell_type": "code",
   "execution_count": 17,
   "id": "eee9a590423d6ec4",
   "metadata": {
    "ExecuteTime": {
     "end_time": "2024-04-13T04:42:55.504820Z",
     "start_time": "2024-04-13T04:42:55.502220Z"
    },
    "collapsed": false
   },
   "outputs": [],
   "source": []
  }
 ],
 "metadata": {
  "kernelspec": {
   "display_name": "Python 3",
   "language": "python",
   "name": "python3"
  },
  "language_info": {
   "codemirror_mode": {
    "name": "ipython",
    "version": 3
   },
   "file_extension": ".py",
   "mimetype": "text/x-python",
   "name": "python",
   "nbconvert_exporter": "python",
   "pygments_lexer": "ipython3",
   "version": "3.10.8"
  }
 },
 "nbformat": 4,
 "nbformat_minor": 5
}
