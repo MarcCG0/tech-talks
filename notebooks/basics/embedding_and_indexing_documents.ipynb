{
 "cells": [
  {
   "cell_type": "markdown",
   "id": "3e642b6aef1cc124",
   "metadata": {
    "collapsed": false
   },
   "source": [
    "# Bookline RAG Toy Playground\n",
    "\n",
    "This notebook demonstrates how to use the [OpenAI API](https://platform.openai.com) to embed documents and index them in a [Qdrant vector database](https://qdrant.tech/) and perform a similarity search on the indexed documents.\n",
    "\n",
    "In the train folder you have a small 15594 document database so that you can do some testing and get an intuition on how stuff works."
   ]
  },
  {
   "cell_type": "markdown",
   "id": "df1fda966199e230",
   "metadata": {
    "collapsed": false
   },
   "source": [
    "# Importing Libraries"
   ]
  },
  {
   "cell_type": "code",
   "execution_count": 110,
   "id": "initial_id",
   "metadata": {
    "ExecuteTime": {
     "end_time": "2024-04-13T04:42:51.581337Z",
     "start_time": "2024-04-13T04:42:50.312747Z"
    },
    "collapsed": true
   },
   "outputs": [],
   "source": [
    "import os\n",
    "import openai\n",
    "import qdrant_client\n",
    "from pathlib import Path"
   ]
  },
  {
   "cell_type": "code",
   "execution_count": 111,
   "id": "bb0fb0739309d3a2",
   "metadata": {
    "ExecuteTime": {
     "end_time": "2024-04-13T04:42:51.584425Z",
     "start_time": "2024-04-13T04:42:51.582533Z"
    },
    "collapsed": false
   },
   "outputs": [],
   "source": [
    "from qdrant_client.http.models import PointStruct\n",
    "from qdrant_client.http.models import VectorParams, Distance"
   ]
  },
  {
   "cell_type": "markdown",
   "id": "32ff4d631d61e93b",
   "metadata": {
    "collapsed": false
   },
   "source": [
    "# Global Variables\n",
    "\n",
    "We will define a few global variables here:\n",
    "\n",
    "- `BASE_DATA_DIR`: The base directory where the data is stored.\n",
    "- `EMBEDDING_MODEL`: The OpenAI embedding model to use for embedding the documents.\n",
    "- `COLLECTION_NAME`: The name of the Qdrant collection to store the documents.\n",
    "- `OPENAI_SECRET_KEY_FILE`: The path to a JSON file containing the OpenAI secret key.\n",
    "- `MAX_DOCUMENTS_TO_LOAD`: The maximum number of documents to load from the dataset."
   ]
  },
  {
   "cell_type": "code",
   "execution_count": 112,
   "id": "d2706e0d2334595e",
   "metadata": {
    "ExecuteTime": {
     "end_time": "2024-04-13T04:42:51.587676Z",
     "start_time": "2024-04-13T04:42:51.584965Z"
    },
    "collapsed": false
   },
   "outputs": [],
   "source": [
    "BASE_DATA_DIR = Path('../../data')\n",
    "EMBEDDING_MODEL = 'text-embedding-3-small'\n",
    "COLLECTION_NAME = \"my_document_collection\"\n",
    "OPENAI_SECRET_KEY_FILE = \"../../secrets/openai_api_key.json\"\n",
    "MAX_DOCUMENTS_TO_LOAD = 100"
   ]
  },
  {
   "cell_type": "code",
   "execution_count": 113,
   "id": "89f4d6f375ca7d55",
   "metadata": {
    "ExecuteTime": {
     "end_time": "2024-04-13T04:42:51.589705Z",
     "start_time": "2024-04-13T04:42:51.588237Z"
    },
    "collapsed": false
   },
   "outputs": [],
   "source": [
    "try:\n",
    "    openai_client\n",
    "except NameError:\n",
    "    openai_client = None"
   ]
  },
  {
   "cell_type": "markdown",
   "id": "84333f4bde905f1b",
   "metadata": {
    "collapsed": false
   },
   "source": [
    "# Helper Functions\n",
    "\n",
    "We will import the helper functions to load the data, get the OpenAI secret key, and embed the documents.\n",
    "The helper functions are defined in the `src/helper_functions.py` file."
   ]
  },
  {
   "cell_type": "code",
   "execution_count": 114,
   "id": "d14c24ea6830acf5",
   "metadata": {
    "ExecuteTime": {
     "end_time": "2024-04-13T04:42:51.698968Z",
     "start_time": "2024-04-13T04:42:51.590589Z"
    },
    "collapsed": false
   },
   "outputs": [],
   "source": [
    "from src.helper_functions import load_data, get_openai_api_key, embed_documents"
   ]
  },
  {
   "cell_type": "markdown",
   "id": "28ba0812644e84d",
   "metadata": {
    "collapsed": false
   },
   "source": [
    "# Loading the OpenAI secret key and Creating an In-Memory Qdrant Database\n",
    "\n",
    "We will load the OpenAI secret key from the `secrets/openai_api_key.json` file and create an in-memory Qdrant database to index the documents."
   ]
  },
  {
   "cell_type": "code",
   "execution_count": 115,
   "id": "9d2c8e83a4e54220",
   "metadata": {
    "ExecuteTime": {
     "end_time": "2024-04-13T04:42:51.719397Z",
     "start_time": "2024-04-13T04:42:51.699976Z"
    },
    "collapsed": false
   },
   "outputs": [],
   "source": [
    "if openai_client is None:\n",
    "    openai_client = openai.Client(\n",
    "        api_key=get_openai_api_key(OPENAI_SECRET_KEY_FILE),\n",
    "    )"
   ]
  },
  {
   "cell_type": "code",
   "execution_count": 116,
   "id": "4cd59b5587894359",
   "metadata": {
    "ExecuteTime": {
     "end_time": "2024-04-13T04:42:51.721944Z",
     "start_time": "2024-04-13T04:42:51.720237Z"
    },
    "collapsed": false
   },
   "outputs": [],
   "source": [
    "# In memory database creation\n",
    "qdrant_client = qdrant_client.QdrantClient(\":memory:\")"
   ]
  },
  {
   "cell_type": "markdown",
   "id": "27b4384fe30f92a5",
   "metadata": {
    "collapsed": false
   },
   "source": [
    "# Loading the Documents\n",
    "\n",
    "We will use the [feedback-prize-2021](https://www.kaggle.com/competitions/feedback-prize-2021/data) dataset from Kaggle as an example. To download the dataset, you can use the following command in the root directory of the project:\n",
    "\n",
    "`bash bin/download_kaggle_dataset.sh \"competition\" \"feedback-prize-2021\" \"data/input/kaggle_competitions/fp1\"`"
   ]
  },
  {
   "cell_type": "code",
   "execution_count": 117,
   "id": "1d84cf2791bb3fa",
   "metadata": {
    "ExecuteTime": {
     "end_time": "2024-04-13T04:42:51.908398Z",
     "start_time": "2024-04-13T04:42:51.722586Z"
    },
    "collapsed": false
   },
   "outputs": [],
   "source": [
    "data = load_data(BASE_DATA_DIR / 'db')[:MAX_DOCUMENTS_TO_LOAD]"
   ]
  },
  {
   "cell_type": "code",
   "execution_count": 118,
   "id": "70ba63fb8a59678d",
   "metadata": {
    "ExecuteTime": {
     "end_time": "2024-04-13T04:42:51.916053Z",
     "start_time": "2024-04-13T04:42:51.909310Z"
    },
    "collapsed": false
   },
   "outputs": [
    {
     "data": {
      "text/html": [
       "<div>\n",
       "<style scoped>\n",
       "    .dataframe tbody tr th:only-of-type {\n",
       "        vertical-align: middle;\n",
       "    }\n",
       "\n",
       "    .dataframe tbody tr th {\n",
       "        vertical-align: top;\n",
       "    }\n",
       "\n",
       "    .dataframe thead th {\n",
       "        text-align: right;\n",
       "    }\n",
       "</style>\n",
       "<table border=\"1\" class=\"dataframe\">\n",
       "  <thead>\n",
       "    <tr style=\"text-align: right;\">\n",
       "      <th></th>\n",
       "      <th>id</th>\n",
       "      <th>text</th>\n",
       "    </tr>\n",
       "  </thead>\n",
       "  <tbody>\n",
       "    <tr>\n",
       "      <th>0</th>\n",
       "      <td>3321A3E87AD3</td>\n",
       "      <td>I do agree that some students would benefit fr...</td>\n",
       "    </tr>\n",
       "    <tr>\n",
       "      <th>1</th>\n",
       "      <td>DFEAEC512BAB</td>\n",
       "      <td>Should students design a summer project for sc...</td>\n",
       "    </tr>\n",
       "    <tr>\n",
       "      <th>2</th>\n",
       "      <td>2E4AFCD3987F</td>\n",
       "      <td>Dear State Senator\\n\\n,\\n\\nIn the ruels of vot...</td>\n",
       "    </tr>\n",
       "    <tr>\n",
       "      <th>3</th>\n",
       "      <td>EB6C2AF20BFE</td>\n",
       "      <td>People sometimes have a different opinion than...</td>\n",
       "    </tr>\n",
       "    <tr>\n",
       "      <th>4</th>\n",
       "      <td>A91A08E523D5</td>\n",
       "      <td>Dear senator,\\n\\nAs you know the Electoral Col...</td>\n",
       "    </tr>\n",
       "  </tbody>\n",
       "</table>\n",
       "</div>"
      ],
      "text/plain": [
       "             id                                               text\n",
       "0  3321A3E87AD3  I do agree that some students would benefit fr...\n",
       "1  DFEAEC512BAB  Should students design a summer project for sc...\n",
       "2  2E4AFCD3987F  Dear State Senator\\n\\n,\\n\\nIn the ruels of vot...\n",
       "3  EB6C2AF20BFE  People sometimes have a different opinion than...\n",
       "4  A91A08E523D5  Dear senator,\\n\\nAs you know the Electoral Col..."
      ]
     },
     "execution_count": 118,
     "metadata": {},
     "output_type": "execute_result"
    }
   ],
   "source": [
    "data.head()"
   ]
  },
  {
   "cell_type": "markdown",
   "id": "85965448aa118dfc",
   "metadata": {
    "collapsed": false
   },
   "source": [
    "# Embedding the Documents\n",
    "\n",
    "We will embed the documents using OpenAI's API using the `text-embedding-3-small` model."
   ]
  },
  {
   "cell_type": "code",
   "execution_count": 119,
   "id": "8e75583cdcf035d",
   "metadata": {
    "ExecuteTime": {
     "end_time": "2024-04-13T04:42:54.997308Z",
     "start_time": "2024-04-13T04:42:51.916839Z"
    },
    "collapsed": false
   },
   "outputs": [],
   "source": [
    "embeddings = embed_documents(data['text'], openai_client, EMBEDDING_MODEL)"
   ]
  },
  {
   "cell_type": "code",
   "execution_count": 120,
   "id": "8c63270d734b7ef8",
   "metadata": {
    "ExecuteTime": {
     "end_time": "2024-04-13T04:42:55.002170Z",
     "start_time": "2024-04-13T04:42:54.998497Z"
    },
    "collapsed": false
   },
   "outputs": [
    {
     "data": {
      "text/plain": [
       "[-0.008226783946156502,\n",
       " -0.013497698120772839,\n",
       " 0.01179460994899273,\n",
       " 0.060780055820941925,\n",
       " 0.06498292833566666,\n",
       " -0.013740171678364277,\n",
       " -0.02018304169178009,\n",
       " 0.005063080228865147,\n",
       " 0.009854820556938648,\n",
       " 0.06174995005130768]"
      ]
     },
     "execution_count": 120,
     "metadata": {},
     "output_type": "execute_result"
    }
   ],
   "source": [
    "embeddings.data[0].embedding[:10]"
   ]
  },
  {
   "cell_type": "code",
   "execution_count": 121,
   "id": "a90b755854e04103",
   "metadata": {
    "ExecuteTime": {
     "end_time": "2024-04-13T04:42:55.008135Z",
     "start_time": "2024-04-13T04:42:55.003212Z"
    },
    "collapsed": false
   },
   "outputs": [],
   "source": [
    "data_with_embeddings = data.copy()\n",
    "data_with_embeddings['embedding'] = embeddings.data"
   ]
  },
  {
   "cell_type": "code",
   "execution_count": 122,
   "id": "99911abd6d7def93",
   "metadata": {
    "ExecuteTime": {
     "end_time": "2024-04-13T04:42:55.030828Z",
     "start_time": "2024-04-13T04:42:55.009493Z"
    },
    "collapsed": false
   },
   "outputs": [
    {
     "data": {
      "text/html": [
       "<div>\n",
       "<style scoped>\n",
       "    .dataframe tbody tr th:only-of-type {\n",
       "        vertical-align: middle;\n",
       "    }\n",
       "\n",
       "    .dataframe tbody tr th {\n",
       "        vertical-align: top;\n",
       "    }\n",
       "\n",
       "    .dataframe thead th {\n",
       "        text-align: right;\n",
       "    }\n",
       "</style>\n",
       "<table border=\"1\" class=\"dataframe\">\n",
       "  <thead>\n",
       "    <tr style=\"text-align: right;\">\n",
       "      <th></th>\n",
       "      <th>id</th>\n",
       "      <th>text</th>\n",
       "      <th>embedding</th>\n",
       "    </tr>\n",
       "  </thead>\n",
       "  <tbody>\n",
       "    <tr>\n",
       "      <th>0</th>\n",
       "      <td>3321A3E87AD3</td>\n",
       "      <td>I do agree that some students would benefit fr...</td>\n",
       "      <td>Embedding(embedding=[-0.008226783946156502, -0...</td>\n",
       "    </tr>\n",
       "    <tr>\n",
       "      <th>1</th>\n",
       "      <td>DFEAEC512BAB</td>\n",
       "      <td>Should students design a summer project for sc...</td>\n",
       "      <td>Embedding(embedding=[-0.0008782672230154276, 0...</td>\n",
       "    </tr>\n",
       "    <tr>\n",
       "      <th>2</th>\n",
       "      <td>2E4AFCD3987F</td>\n",
       "      <td>Dear State Senator\\n\\n,\\n\\nIn the ruels of vot...</td>\n",
       "      <td>Embedding(embedding=[0.040929023176431656, 0.0...</td>\n",
       "    </tr>\n",
       "    <tr>\n",
       "      <th>3</th>\n",
       "      <td>EB6C2AF20BFE</td>\n",
       "      <td>People sometimes have a different opinion than...</td>\n",
       "      <td>Embedding(embedding=[0.04807731509208679, -0.0...</td>\n",
       "    </tr>\n",
       "    <tr>\n",
       "      <th>4</th>\n",
       "      <td>A91A08E523D5</td>\n",
       "      <td>Dear senator,\\n\\nAs you know the Electoral Col...</td>\n",
       "      <td>Embedding(embedding=[0.04964446648955345, -0.0...</td>\n",
       "    </tr>\n",
       "  </tbody>\n",
       "</table>\n",
       "</div>"
      ],
      "text/plain": [
       "             id                                               text  \\\n",
       "0  3321A3E87AD3  I do agree that some students would benefit fr...   \n",
       "1  DFEAEC512BAB  Should students design a summer project for sc...   \n",
       "2  2E4AFCD3987F  Dear State Senator\\n\\n,\\n\\nIn the ruels of vot...   \n",
       "3  EB6C2AF20BFE  People sometimes have a different opinion than...   \n",
       "4  A91A08E523D5  Dear senator,\\n\\nAs you know the Electoral Col...   \n",
       "\n",
       "                                           embedding  \n",
       "0  Embedding(embedding=[-0.008226783946156502, -0...  \n",
       "1  Embedding(embedding=[-0.0008782672230154276, 0...  \n",
       "2  Embedding(embedding=[0.040929023176431656, 0.0...  \n",
       "3  Embedding(embedding=[0.04807731509208679, -0.0...  \n",
       "4  Embedding(embedding=[0.04964446648955345, -0.0...  "
      ]
     },
     "execution_count": 122,
     "metadata": {},
     "output_type": "execute_result"
    }
   ],
   "source": [
    "data_with_embeddings.head()"
   ]
  },
  {
   "cell_type": "markdown",
   "id": "1954b0914ca898dc",
   "metadata": {
    "collapsed": false
   },
   "source": [
    "# Indexing the Documents in Qdrant Database\n",
    "\n",
    "We will index the documents in the Qdrant database with the document embeddings and the document text as the payload.\n",
    "By saving our embeddings as the vectors we can make vectorial based queries to relate our query with the documents in our database."
   ]
  },
  {
   "cell_type": "code",
   "execution_count": 123,
   "id": "29417af2136f0380",
   "metadata": {
    "ExecuteTime": {
     "end_time": "2024-04-13T04:42:55.046252Z",
     "start_time": "2024-04-13T04:42:55.033699Z"
    },
    "collapsed": false
   },
   "outputs": [],
   "source": [
    "points = [\n",
    "    PointStruct(\n",
    "        id=idx,\n",
    "        vector=data.embedding,\n",
    "        payload={\"text\": text},\n",
    "    )\n",
    "    for idx, (data, text) in enumerate(zip(data_with_embeddings['embedding'], data_with_embeddings['text']))\n",
    "]"
   ]
  },
  {
   "cell_type": "code",
   "execution_count": 124,
   "id": "722f71aa8088e3e1",
   "metadata": {
    "ExecuteTime": {
     "end_time": "2024-04-13T04:42:55.062609Z",
     "start_time": "2024-04-13T04:42:55.047456Z"
    },
    "collapsed": false
   },
   "outputs": [
    {
     "data": {
      "text/plain": [
       "UpdateResult(operation_id=0, status=<UpdateStatus.COMPLETED: 'completed'>)"
      ]
     },
     "execution_count": 124,
     "metadata": {},
     "output_type": "execute_result"
    }
   ],
   "source": [
    "qdrant_client.create_collection(\n",
    "    COLLECTION_NAME,\n",
    "    vectors_config=VectorParams(\n",
    "        size=1536,\n",
    "        distance=Distance.COSINE,\n",
    "    ),\n",
    ")\n",
    "\n",
    "qdrant_client.upsert(COLLECTION_NAME, points)"
   ]
  },
  {
   "cell_type": "markdown",
   "id": "90b5d75257a7cd70",
   "metadata": {
    "collapsed": false
   },
   "source": [
    "# Searching for Similar Documents\n",
    "\n",
    "Let's search for similar documents to a sample query. We will use cosine similarity and limit the search results to 3 documents with a similarity (or score) threshold of 0.1 or higher."
   ]
  },
  {
   "cell_type": "code",
   "execution_count": 125,
   "id": "f56b584055d889af",
   "metadata": {
    "ExecuteTime": {
     "end_time": "2024-04-13T04:42:55.489863Z",
     "start_time": "2024-04-13T04:42:55.063520Z"
    },
    "collapsed": false
   },
   "outputs": [],
   "source": [
    "query = \"Bookline\"\n",
    "\n",
    "results = qdrant_client.search(\n",
    "    collection_name=COLLECTION_NAME,\n",
    "    query_vector=openai_client.embeddings.create(\n",
    "        input=[query],\n",
    "        model=EMBEDDING_MODEL,\n",
    "    ).data[0].embedding,\n",
    "    limit=20,\n",
    "    score_threshold=0.1,\n",
    ")"
   ]
  },
  {
   "cell_type": "code",
   "execution_count": 109,
   "id": "88e825302389b144",
   "metadata": {
    "ExecuteTime": {
     "end_time": "2024-04-13T04:42:55.499930Z",
     "start_time": "2024-04-13T04:42:55.491551Z"
    },
    "collapsed": false
   },
   "outputs": [
    {
     "data": {
      "text/plain": [
       "[ScoredPoint(id=40, version=0, score=0.18126124123354687, payload={'text': 'Luke Bomberger became a Seagoing Cowboy he helps people whose lives had been affected by World War ll. Luke became a Seagoing\\n\\nCowboy because he knew it was an opportunity of a lifetime, as he says in paragraph one. Luke also wanted to help others who had been affected by World War ll.\\n\\nLuke crossed the Atlantic Ocean sixteen times and the Pacific Ocean twice, to help countries recover their food supplies, animals, and much more as it says in paragraph two. Even though it was a long journey across the oceans and the waters were rough Luke loved being a Seagoing Cowboy and he loved to help the people.\\n\\nSome people would probably refuse to go to another country that had just been through war some people would say it was to risky and unsafe well it is, some people might say that it is too dangerous to cross the ocean well it is but Luke felt that these were things that he needed to do and is something that is important to him.\\n\\nLuke also got to visit many great places in between his journeys, he got to see many different places such as the Panama Canal on his way to China in paragraph five Luke says that \"seeing the Acropolis in Greece was special\" and \"so was taking a gondola ride in Venice , Italy a city with streets of water. Luke thought that it was all so great.\\n\\nBut some people might say that they wouldnt go there because once again it\\'s just too dangerous or that if they wanted to go there then they definetly not go on a boat and they would much more want to fly there. Well once again that is their opinion and Luke was happy the way that he went and was happy that he could see it and that he go to experience the jouney.\\n\\nIn conclusion Luke loves being a Seagoing Cowboy he loves all the sights, all the help that he can give to these other people, and that he could have this opportunity in life.                  '}, vector=None, shard_key=None),\n",
       " ScoredPoint(id=56, version=0, score=0.17652033831077613, payload={'text': 'When Luke was a little town boy he made a huge inprovment by becoming a\\n\\nSeagoing Cowboy. He saw a lot of stuff on the boat as you can tell on paragraph 5 he said, \"Besides helping people,I had the side benefit of seeing Europe and China.\" That would be a great experince for a small town boy. I think it was a great idea to join the program because, you could tell your grandchildren about all the things you have seen and done. If his friend had not been there to tell him about it he would have been working two jobs his whole life. Luke is probably very greatful.\\n\\nLuke is also the best there because he has went threw the route nine time as you see on paragraph 6. Luke point of veiw would probably tell more about what he saw during the trip and what he did. He loves to help people by this job he has helped bring all the cattle/food. Luke is very talented for having this job because you have to feed the animals about three times aday and keep them alive. You can state this information on paraghraph 6 and 7. He worked so much he got hurt and craked his ribs. He was happy to be alive. Therefore he had to stay at home to get better.\\n\\nLuke\\'s point of view would also tell how fun it was to work there and he would convince you that it is a realy good job. He was very happy to get this job beause he said, \" I\\'m grateful for the opportunity.\" Luke created history and when he could not do the job any more people visited him all the time like students and many familys to live on all the history he made. It opened up Lukes world up when he got the job. Its also so cool how they played sports when they had free time to take the time away. Its amazing how he can get all those animals and pick them up on the boat and take them across the country and drop them off. He was realy good at his job to do that! That is how Luke Bomberger made history in America.'}, vector=None, shard_key=None),\n",
       " ScoredPoint(id=18, version=0, score=0.1575458471809266, payload={'text': 'Technology runs rampant in this modern age. Some embrace it, some fear it, but most people accept it as a tool- a means to an end- and a way to make life easier. This tool most notably affects the lives of the youngest generation, since they grew up surrounded by screens. Texting, typing, and searching are all second nature to Generation Z. As \"Gen Z\" grows, the world grows around it, moving and adapting with an increased reliability on technology. New traditions, inventions, and methods rise to meet a technologically advanced society. In schools, (the territory of Gen Z), there is an influx of \\'distance learning,\\' or online classes. These courses are an amazing benefit to students because they offer a wider variety of subjects, cater to students\\' ambitions, and allow for students\\' physical limitations.\\n\\nAcross America, small, understaffed schools struggle to teach their students. While these schools can offer essential classes, such as academic English, history, sciences, and mathematics, some are unable to provide more flavorful classes like creative writing, human geography, or computer science. Some schools even struggle to teach advanced core classes, such as honors, IB, or AP. This is because such specific or advanced classes require qualified and specialized teachers- a resource some areas simply do not have. This restricts these students, since they cannot take classes relating to their personal interests, or classes with college credit. Through distance learning, these students could have the opportunity to take classes their schools don\\'t offer. This benefit isn\\'t restricted to underprivileged areas, however. Specialized teachers (or even professors) provide courses on a wide variety of interesting, challenging subjects that are not found in high schools, or even most colleges. Students can take online courses from influential entities like NASA and Microsoft, and earn college credit at the same time. Distance learning dramatically increases the scope of education and gives students learning opportunities they would not find otherwise.\\n\\nSome students have bigger goals than their schedules allow. In my sophomore year, I decided that I wanted to take AP Physics in my senior year. This meant that I had to take a physics course in my junior year, but I did not have enough room in my schedule, since I also needed to take economics to graduate, and I wanted to take chemistry. I notified my counselor and decided to take my Economics/Personal Finance class online, and free up an extra slot. In the spring of sophomore year, I was taking eight classes, instead of the standard seven. While this added to my workload, it enabled me to take both physics and chemistry in my junior year, and AP Physics my senior year. With distance learning, I expanded my schedule and took classes that interested me, and not just classes that were required.\\n\\nOutside of ambitions and location limitations, some students are physically unable to attend classes they enjoy. Life often takes control, and injuries or illnesses stop students from attending school, or taking more rigorous classes. My aunt has a physical illness that makes it very hard for her to attend stimulating events. Things like concerts, birthday parties, and movies all overwhelm her senses and cause tics and seizures. This manifested in her junior year of high school, and she was out of school for all of second semester. This would have severely harmed her chances of getting into college or graduating on time. Fortunately, she was able to get tutors and supplementary courses, so she was able graduate, and even got a large scholarship for her grades. Her last few years of high school were long and difficult because she could only learn when she was feeling well enough to interact with another person. Her illness dictated her schooling by limiting her ability to talk to people and listen to pages turn. Unfortunately, this was before online classes were widespread or accessible. If she had taken online courses, she would have been able to do work and study, even when she was unable to talk to people. Her same situation is reflected across countless lives- students\\' bodies are unable to handle the school environment, so they struggle to get the same education as their in-school counterparts. Distance learning helps to alleviate this issue by providing a self-paced environment with the same material, testing, and teachers, without the taxing physical environment.\\n\\nPerhaps the largest issue raised regarding distance learning is time management. Teenagers are notorious for procrastination, which leaves two options- easier courses or millions of disappointed parents. The self-paced nature of online classes provide seemingly endless opportunities to stave off work in favor of video games. However, this is a non issue. Students taking online classes face the same requirements as their in-school classmates, just through a different medium. While it is much easier to avoid work without a teacher present, students\\' grades will still reflect their effort and performance. Just like in a normal classroom setting, hard work is rewarded, and procrastination results in failure. Students using distance learning will effectively learn time management and responsibility if they want to succeed. If a student is likely to fail in an online class, they are just as likely to fail in a classroom setting. It\\'s all mindset.\\n\\nDistance learning is on a rise, fueled by a boom in technology. Some schools embrace it, and some reject it. Either way, distance learning is a huge benefit to students. With a longer list of course options, openings for schedule flexibility, and a broader availability to physically restrained students, online courses help students to learn and grow, and pick up good time management skills along the way.\\xa0'}, vector=None, shard_key=None),\n",
       " ScoredPoint(id=17, version=0, score=0.14715899918806546, payload={'text': \"Dear Principle,\\n\\nPolicy 1 should be chosen. Policy 2 should not be chosen because some students have to have their phones with them at school, their parents require them to. Also for some students their phones are the only way they know how they are getting home after school.\\n\\nPolicy 1 should be chosen because at school students are concentrating and working hard all day. They only get one hour of brake (lunch) and four minutes between each class (passing period). While they are on brake it would be nice if they could take out their phone and be able to text or do whatever they want. As long as they are completely off in the classroom. The only reason students aren't aloud to have phones during school is to prevent cheating (during lunch and passing periods, cheating really isn't an issue.) and to keep the phone from ringing and disrupting the class. If they had their phones during brakes and the teacher made sure the phone was completely off during class time, then it would not be an issue.\\n\\nIf policy 1 was chosen it would keep everyone from braking the rules. They only reason students text during class and have their phone on during class is because they don't have a specific time they are aloud to use their phones. If they had a specific time they could use their phone, they wouldn't need to text in class.\\n\\nChoosing policy 1 would also make the students' grades increase. Whenever they are texting in class they aren't paying attention to the teacher. If they had a time they were aloud to use phones, they wouldn't need to text in class, so they would pay attention to the teacher, which in turn would raise their grades, making the school, teacher, and principle look good.\\n\\nSome students don't do their work because they get lazy and they don't have anything to look forward to. If they were aloud to have their phones out during passing periods they would have something to look forward to so they would keep doing their work in order to be able to get out their phone.\\n\\nSincerely,\\n\\nStudent\"}, vector=None, shard_key=None),\n",
       " ScoredPoint(id=29, version=0, score=0.14493012882582063, payload={'text': \"With daily advances in technology, the education system is shifting towards a more modern approach: going online. Students are no longer opening their textbooks, but now it's their laptops that are cracking open. While online school seems to be full of positives, the negatives such as the social aspect of school missing, the escape from at-home problems that students rely on school for, and the inconsistency of technology are some big red flags opposing the switch.\\n\\nGeneric_Name's school has turned completely online. She is halfway through high school, and the new and sudden change is drastically effecting her. Now that her curriculum is online she is not able to see her friends during school, and the lack of social interaction is starting to effect her mental health. She feels depressed, but does not want to draw attention to herself for ask for help because she feels like she has no one anymore. School is more than math class, and English projects. School is a way for students to connect with other people.\\n\\nGeneric_Name spends most of his days out of the house away from his computer. Since Generic_Name has no one to check up on him to make sure his\\xa0assignments get done he simply does not complete them. Generic_Name is now in danger of not graduating. He has an IEP plan, that, while he physically went to school, granted him a teacher's aide in all of his classrooms. He formed a close bond with that teacher and the teacher helped keep him on task. Generic_Name now spends his time on other things, like leisure activities and seeing his friends. Students who need extra help would not find online school beneficial, and it would be difficult for them to keep up with their intrinsic motivation to learn without that extra push from an outside source. School itself is mentally taxing, but can provide a physical escape for students as well.\\n\\nGeneric_Name is the oldest of five , and has to share a room with her younger sister. They often fight and bicker and sometimes Generic_Name just needs a break. She often will go to a friends house, but her biggest escape is school. Being away from all the drama at home for hours at a time really helps Generic_Name, and helps her reset before spending the evening with her siblings . She is calmer and more patient with her siblings when she goes to school. But Generic_Name's county has shifted all the schools to online, and all day Generic_Name has to help her siblings with homework questions and looking after them all. Whether their home life is great or not so great it is a way to just leave the house and expel energy.\\n\\nGeneric_Name and his father do not get along very well. Generic_Name is an only child, and his mother is not in his life. His father takes out a lot of his frustration out on Generic_Name, ad Generic_Name loathes being at home. Normally he would spend as much time as he could away from his house, participating in after-school clubs, coming into school early, and just going places with his friends. But now his school is online. So he is constantly inside of the area that gives him his stress and anxiety and it is not good for him. Generic_Name feels as if he is walking on pins and needles all the time. School is a get away for students. Having school online does not work for every family\\xa0dynamic.\\n\\nProblems at home are not always with another person, rather they could be with technology.\\n\\nGeneric_Name\\xa0spilled creme soda all over his laptop. His computer is out of commission for a week and he has no way to complete his assignments or email his teacher to explain what is going on. Generic_Name has a test this week that is worth a very large percentage of his grade, and he needs to have his laptop to be able to do it. This problem will cause\\xa0Generic_Name's\\xa0grade in\\xa0the class to drop dramatically if his laptop is at the repair shop. Technology is too inconsistent to rely on outside of the classroom on a large scale.\\n\\nGeneric_Name's family cannot afford for her to have her own personal laptop. Her schooling is now being conducted only online however, and she is having difficulties keeping up with her schooling. She relies on the public library for computer access, but it isn't always open when she needs it to be, and she cannot video chat with her professors there. Generic_Name's grades are plummeting but she feels like she has no control over the situation. She has decided to get a job in order to pay for her own laptop, but her job drastically cuts into her schooling. She needs the hours to acquire the laptop but her balance between work and school isn't working and she doesn't know what to do.\\n\\nSwitching to online school can cause new stress on students.\\n\\nSome could argue that online school could be beneficial to students by ways transportation. In climate\\xa0weather, over crowding in schools, and just day to day traffic causes back-ups and problems in students getting to school on time. Students wake up late, and are caught up with adults trying to make it to work or miss the\\xa0bus and must ask a parents for a ride. However making it necessary for children to come to school teaches students independence and self-reliance, clears all distractions away from students by having them sit in a classroom, and allows time for students to ask teachers questions about topics that they do not understand before class begins, giving the student one-on-one time. Having students stay home, gives them no accountability besides to themselves, which does not guarantee attendance to school. Students can sleep in, not turn on their computers and no one is there to check them.\\n\\nHaving school online would not be beneficial to students. Children's needs are to diverse and learning styles so drastic that to conform the millions of students in the U.S. alone to one way of learning is unrealistic and unhelpful. Children need the peer-to-peer interaction, the escape from their households, and the constituency of resources that school provides.\\xa0Personal learning tailored to every student works best for equal education for every child, not having them stuck behind a screen.\"}, vector=None, shard_key=None),\n",
       " ScoredPoint(id=79, version=0, score=0.1411846844687339, payload={'text': \"Phones & Driving\\n\\nThe use of cellular phones has spread like wildfire in the last ten years. It has become a part of everyday life for many American citizens, and a good number of people depend on them to carry out daily operations. Unfortunately, many of these daily operations occur while the individual is driving. As a result, many accidents have taken place in the last ten years due to the use of cellular phones while on the road.\\n\\nThis leads me to believe that if people can't concentrate on the road while talking on a cell phone, they shouldn't talk at all while driving. Rather than restricting access, the goal should be to provide in-vehicle information systems and safer means of using your cellular phone while driving. I understand that restricting cell phone usage while driving altogether isn't the best means for solving the problem.\\n\\nI do, however, believe that more safety precautions need to be taken for individuals who will be talking on their phones while driving. Phones are being created by Erricson, Motorolla, and Nokia today in which offer a hands-free cell phone so that you can keep both hands on the wheel while driving and talking. Some of these come in the form of headsets and give the user a voice-activated sequence, which allows you to talk into the speaker, and the number will instantly be dialed. Already this has eliminated the chance of your hands being off the wheel and having to do the act of dialing the phone. Both which allow you to keep your hands on the wheel and eyes on the road.\\n\\nEven hands-free devices that allow us to talk on the phone while driving with both hands on the wheel are still a hazard. Studies have shown that while talking to someone on the phone your brain is putting a lot of its energy into the conversation. This means that less of your brain is focused on driving the car. Yes, that could also mean a conversation with someone in the car is dangerous but you add in bad reception, how uncomfortable the hands-free earpieces are to wear and the annoyance of static or wind and you have a worse distraction.\\n\\nWhatever it is can almost always wait until you get where you are going. If it can't wait, you can always stop to look. Cell phone use should be banned for the safety of everyone on the roads. It may not be as convenient, but we won't lose nearly as many teenage lives to Tweets or texts if they know their license could be taken if they do look.         \"}, vector=None, shard_key=None),\n",
       " ScoredPoint(id=75, version=0, score=0.13030556205655186, payload={'text': 'Many people, especially teenagers, are dying because of the use of cell phones while driving. The question is, should people be allowed to use cell phones in any capacity while operating a vehicle.\\n\\nI believe people should not be able to use cell phones while driving.\\n\\nPeople get distracted very quickly when they are on the phone. Many accidents are caused because people try to read or respond to text messages while driving. Even when using a hands free device such as a Bluetooth, talking on the phone is still very distracting and causes the driver to pay less attention to other cars.\\n\\nAccording to the National Safety Council (NSC), \"Everyday 9 people are killed and more than 1000 people were injured in crashes involving distracted drivers\" (National Safety Council, 2019). In the same article, the National Safety Council said that \"drivers looking out the windshield can miss seeing up to 50% of what\\'s around them when talking on a cell phone\" (National Safety Council,2019).\\n\\nThe NSC also reminds people in the article that your mind can only process one task at a time, so you cannot talk on the phone and read a book at the same time (National Safety Council, 2019).\\n\\nThis is why even if you are using a hands free device to talk on the phone, the conversation is still occupying your mind while you are supposed to be focused on driving.\\n\\nMost states have fines for being caught texting while driving. If you are texting while driving and kills someone, you could be charged with vehicular homicide or manslaughter. If found guilty of these charges, you could spend a lot of time in jail. I think this is a really good law because even though it doesn\\'t stop everyone from texting while driving, it does stop some people who know this is a law and they could go to jail for breaking it.\\n\\nIn conclusion people shouldn\\'t be able to use cellphones in any capacity while operating a vehicle. Many people have lost loved ones and their own lives because of driving while being on their cellphones. Driving while texting and killing someone will put you in prison for a very long time. Distracted driving, like just talking on the phone, causes many accidents. No conversation is that important. Just wait until you are not driving.\\n\\nWorks cited\\n\\n\"Hand-Free Is Not Risk-Free\",National Safety Council,National Safety Council,2019,\\n\\nhttps:///www. nsc. org/road-safety/tools-resources/infographics/hands-free-is-not-risk-free,\\n\\n8/30/2019                  '}, vector=None, shard_key=None),\n",
       " ScoredPoint(id=96, version=0, score=0.12416953484108299, payload={'text': \"Dear principal,\\n\\nyou should let the students use them during free time and lunch. The students are American citizens too. The teachers are aloud to use theirs and so should the students. We are equal in rights. If the students will only be aloud to use them during free periods then so should the teachers. We wouldn't have to break the rules if there was no rules to break. So if they were aloud then nobody would try to sneak it all the time during classes. If you made it so that cell phone were banned from the school then a lot of people would need to use the school phones so that they could get rides home and things like that. phones are useful to the student body and if they were taken away then it would be very inconvenient. And since we are all equal then you would have to leave yours at home too and all the teachers would not be aloud either. So the better option is definitely to let the students use them during there free classes. We would be really grateful of you if you could be so nice as to let us keep them. plus if they were banned how would you check every student to make sure that they didn't have a phone with them?\\n\\nsincerely,\\n\\nthe student body\"}, vector=None, shard_key=None),\n",
       " ScoredPoint(id=69, version=0, score=0.1173785616834892, payload={'text': \"Dear TEACHER_NAME,\\n\\nYou should not require SCHOOL_NAME students to perform community service because that does not have anything to do with school or education. Also we have other things we could be doing in our spare time that are more useful and a better use of our time. The only reason That I think would be a good reason to require us to do community service is if we had bad behavior or bad grades. What you could do is have voluntary groups and activities that involve doing community work. That would be a good idea because some students who would like to do community work could sign up and do it. Other than that I do not see a very good reason to require us to do community work. If you had us doing community work there would be more complaints, more I.S.S, and more work/ responsibilities. With the time spent doing community work we could be learning things or doing something towards our future career.\\n\\nStudents should not be forced to do labor work, they should have some freedom to do what they wish on their free time.\\n\\nSincerely,\\n\\nSTUDENT_NAME\\n\\nNow I continue writhing because I still have time left and I'm not aloud to go to the next subject until the time is up. So how's life? How's the family? That's good, I'm so happy for you. Well it's about time I start ending this letter thing. GOODBYE.\"}, vector=None, shard_key=None),\n",
       " ScoredPoint(id=22, version=0, score=0.11471624199203335, payload={'text': \"The Internet is Building a Stronger Workforce\\n\\nCOVID-19 is spreading across the world. Now this disease\\xa0has killed more people than influenza has this year. Epidemiologists for the CDC are recommending that colleges across the country shut down their campuses and revert to online school so that they disperse the student population to lower the chances of the students getting infected. This suggestion has been readily accepted in colleges throughout the country. Soon public schools could follow the colleges' lead. More and more public schools are introducing a plethora of online classes. Many students are now able to do classwork and take assessments online as well as conference with their teachers from the comfort of their home. Students would benefit from online school through more direct, one on one learning with teachers, building each students aptitude with technology for their future participation in the workforce, and allowing students with a variety of ailments to continue their education at home.\\n\\nFirst of all, with online classes students would be able to interact with their teachers on a more personal level. Currently, if a student needs help with homework or a concept that they are struggling with, most often, they will have to come and see their teacher before or after school. Some students simply do not have that availability to see their teacher or are too embarrassed to ask their teacher during the class session. With classes being taken online, the student could simply email the teacher privately to work out a time to video conference their teacher for help. This simple interaction with teachers would show that students could go to their teachers more easily and would feel more comfortable when asking questions. With this increase of inquiries, scores in the grade book could go up, increasing parental and student satisfaction. Due to the introduction of online education, teacher-student interaction would become easier and more common.\\n\\nSecond of all, Students would be able to become build their technological skills parallel to learning new material. Many employers in this hyper-technological world are looking for employees that will be able to keep up with new technologies as well as help their business grow. While students are at school, they have access to technology, but this access is limited and most often very basic for most people. If schools' education was offered online, many students would rapidly become accommodated with new and more complex programs and applications. Teachers could require logging of time spent studying on spreadsheets, or taking screen shots of\\xa0research, as well as\\xa0making projects on three-dimensional design software for every student that they have. So many things in the classroom would have to be transferred online, making students who graduate highly valued to any employer looking to hire somebody. Highschool students who become adept at using online applications would be beneficial for a student and future employers.\\n\\nThird of all, any student that has to stay at home or be hospitalized due to a sickness would be able to continue their education. Throughout the year every school has a variety of issues, but one issue can truly devastate an education. If a student that is a tenth grader comes to school with what they think is a minor cold and goes about their entire day, many students would interact with this sophomore and soon all of these students would be home sick. Due to the transmission\\xa0those classes would only have half the students it should have. This issue is morbidly obvious. However true this issue is, disease cannot spread through technology. Any students taking these online courses would be safe from any other students who are sick. This would allow schools' education to run with a little more grease on their axles. Due to students having an online education many students who become sick would not have to pause their education for any amount of time.\\n\\nIn order to address those opposed, it is understandable for anyone to do so, but not forgivable. Many would say that the students would lose their friends, that they might become awkward, and that students might even cheat on assessments. All of these are understandable, but they are not without solution. Schools would be getting rid of their on campus schooling but would still host extracurricular activities and sporting events, along with gym classes, as well as dances and pep rallies. This would help retain student friendships at school. Students cheating on assessments has been a problematic in all school systems for years, writing on your arms and hands, looking at a friend's\\xa0paper to see which bubbles they filled in, or even feverishly copying someone's homework in the hallways outside of a class. While online learning may be a good fix for a lot of these issues it could open up new problems as well. Students could use their phones to search for answers to a variety of tests or share their answers with friends via text message. Their is no end to the creativity of someone who wants to cheat on an assignment, that is why a student's parent could supervise the student on each test and let the teacher know that the student was honest. This would be an easy way of reassurance for all instructors.\\n\\nIn conclusion, online school for students could be greatly\\xa0beneficial. Through one on one interaction with teachers, spurring more inquiries from pupils, becoming more proficient with technology at school and in the workplace, and allowing students who are afflicted with disease, and sometimes an injury, to attend school. Online school would benefit many students in this modern world. Now do what you think is right, go to a school board meeting, or sign a petition, because once we make this change, the Virginian education system will be stronger than any other state's. Now that isn't able to be said every day.\"}, vector=None, shard_key=None),\n",
       " ScoredPoint(id=54, version=0, score=0.11231675336177711, payload={'text': 'Being a Seagoing Cowboy is fun! My friend Don Reist invited me to go to Europe in a cattle boat. It sounded fun, the chance to travel around the world and go see places I\\'ve dreamed about. I mean how could you pass up an offer like that? So, of couse I said yes. It was 1945, World War II had just ended in Europe, and countries needed help recovering from the war. To help these countries recover more than 44 countries joined together to make the United Nations Relief and Rehabilitation Administration or the UNRRA. This program hired \"Seagoing Cowboys\" (that\\'s what I was) to take care of the horses, young cows, and mules while the animals were on the ship. Don and I signed up of couse it sounded fun, and I had helped my Aunt Katie on her farm when I was a boy so I has some exspirence. Finally we received our orders to report to New Orleans, I couldn\\'t wait to go out and help people. We had arrived on August 14, that\\'s the day the Pacific war had ended. When we got our seaman\\'s papers we boarded to SS Charles W. Wooster, we were heading to Greece, I was so excited. In cargo we had 335 horses plus enough oats and hay to feed of the horses.\\n\\nI had turned 18 before I had arrivede at Gresse, so that meant I could be drafted for military service, but when my draft board had leanred I was on a cattle-boat trip be just told me to keep doing what I was doing. In the service you help people and help to fight for your country and if he told me to keep doing what I was doing that means I\\'m doing something that is going to help people in a big way. The cargo is going to help feed people in need because of the war destroying their food supplies. Not only did I help people, I also got to see Europe and China. Seeing the Acropolis in Greece was special. Also taking a Gondola ride in Venice, Italy was amazing too! The city with streets of water was beautiful. I also go to tour an excavated castle in Crete and marveled at the Panama Canal on my way to China.\\n\\nOn theses trips I got to meet new people and see new places. I got to help people in need, and that felt good. It feels good when you see someone that\\'s suffering because their home was destroyed and when you help them they have a smile on their face. Taking care of the cattle, horses, and mules was fun. We also found the time to have fun on board, especially on the return trips after all the animals had been unloaded. Us cowboys played baseball and volleyball in the empty hold where the animals were housed. We had table-tennis tournaments, boxing, reading, fencing, whittling, and games aslo helped us pass the time.\\n\\nThere are so many opertunities when you\\'re a Seagoing Cowboy. \"It opened up the world to me.\" \"It made me more aware of people in other countries and their needs.\" I took an offer of a life time, and you should too! Most importantly to me I know I helped people and I made a difference!'}, vector=None, shard_key=None),\n",
       " ScoredPoint(id=92, version=0, score=0.11069326906363579, payload={'text': 'School is not exactly something everyone looks forward to nowadays. Teenagers are depressed, anxious, and some incredibly sick. It is so difficult to avoid some of the negative things in life when a student is constantly surrounded by peer pressure and bullying. If given the choice, many students would most likely choose to skip school and stay at home. However, if a student was given the option to attend classes from home, it would be beneficial. This is because\\xa0it allows those who get sick to stay caught up and protects those who get bullied and assaulted in school.\\n\\nFirst, online classes by way of video conference are very helpful to those who are sick because they are still able to be taught by a teacher. Many students come into school even if they are sick. This causes an illness to spread around the entire student body just because one student couldn\\'t miss class. On the other hand, if a student stays home because they are sick, they miss a lot of classwork and aren\\'t able to pay attend the important lessons being taught. One time, I had to stay home because of a stomach bug. I got behind in my classes and was never really able to understand the concepts as well as I could have if I was taught by my teacher like everyone else. I got a very bad grade on the test on these concepts because I was not able to catch up. If I was able to call in to my missed classes, I would have benefited greatly because I could ask questions if I had any, hear the teacher\\'s explanation, and see how the teacher would solve the problem instead of having to figure it all out on my own. On a more serious level, there are some kids who are, unfortunately, terminally ill. They are either physically unable to go to school because of their type of illness or aren\\'t allowed to go out very often because of the risks and dangers they could face. They are more prone to your typical cold and flu, and it is deadlier for them. If they were able to sit in on their classes through a video conference, then they could still feel like they are going to high school like a \"normal\" teenager. Overall, even if attending classes online was only available to those who are sick, it would still help so many kids.\\n\\nVideo conferences and attending classes online are also beneficial to a different demographic, those who are bullied and assaulted. To protect those who fear going to school because they are constantly putting themselves in danger, the school could give them this option of learning from home. There are so many stories of kids getting beat up at school and the school not trying to fix things or not being able to fix things, and this is a way that the schools can help be a part of the solution. There are also numerous stories of students getting sexually assaulted and raped. These students go through every day, trying to avoid those horrible people who did this horrible thing to them, wondering why they have to put in so much work just so this doesn\\'t happen to them again. The book\\n\\nSpeak brings a lot of light on this issue. The main character goes through this avoiding process and, in the end, is unable to completely avoid her rapist. She finds it extremely difficult to see him in school, acting as if he hasn\\'t done anything wrong. If she was given the option to do online schooling, I bet she would have done it in a heartbeat. She dreaded going to school every day and this extra option would have been a godsend for her. Sometimes, you have to take things into your own hands, and if that means making the decision to do schooling from home, then you do what you gotta do.\\n\\nSome may say that students and teenagers need a chance to socially interact with others, and school helps provide that. But, everyone has people they interact with outside of school. Whether it be in the neighborhood or at church, there are many other ways to get your social fix in. Take home-schooled kids, for example. They might be home alone all day trying to get their schoolwork done, but home-schooled students\\xa0have these groups called co-ops. These co-ops are groups of other students that are home-schooled that come to learn altogether. This helps those who are home-schooled get themselves some time with other students.\\n\\nThere are many benefits to having another option for students who are sick and kids who get assaulted and bullied. Many of today\\'s societal issues, whether it be new illnesses spreading or more and more students getting hurt and going to school in fear, affect a teenager\\'s school life. The less focused we are on the issues going on outside of school, the more we are able to focus on what could impact our future. School is vital to our future in today\\'s world, and the administration needs to realize that there are things taking away our focus from school. Teenagers are the future of this world, and the past generations need to realize that things are different that they were in their time. Would you want your children to go to school living in fear? Well, they already are.'}, vector=None, shard_key=None),\n",
       " ScoredPoint(id=91, version=0, score=0.11040685317416182, payload={'text': 'Phones While Driving: Safe Behavior?\\n\\nAs technology development grows at an exponential rate and far more places have access to internet and phones, many people have begun to experience the benefits of globalization, meanwhile however, accidents on highways and freeways are on the rise as a direct result of people using their phones while operating motored vehicles, not only putting themselves in danger but others as well. This is an unsafe behavior that deserves great attention and society needs to come together to come up with a plan to prevent future accidents.\\n\\nIt is true that everyday more and more businesses conduct their activities online and most jobs require employees to be on their phones for a large amount of time, prospecting and client outreach may come at an unexpected time, and some may argue that the act of being the phone while driving is often times necessary to conduct business, this however comes at a great cost, and the risks associated with this behavior could be fatal according to experts at a local university in Kansas.\\n\\n9 people are killed and more than 1,000 are injured daily in incidents reported as distraction-affected crashes in the United State (\"FCC\"), and in 2013 it was reported that, according to a national survey in the US, the number of drivers who reported using their cellphones to access the internet while driving had risen to nearly one of four. (\"USA Today\")\\n\\nThe bottom line is that Phones and motored vehicles do not mix well and the action of using a cellular device while driving must be avoided. As more data continues to emerge, the numbers of laws and regulations in response to this issue are also growing, consequently making the roads safer for everyone.               '}, vector=None, shard_key=None),\n",
       " ScoredPoint(id=55, version=0, score=0.10759906974689874, payload={'text': 'Operating a motor vehicle while on your cell phone\\n\\nBeing on your device and driving could be an overly dangerous choice in life. Many people around the world are injured by this situation every day. It could lead to accidents and altercations. In addition it would even cost you your licences. The most detrimental outcome is death. There are far more outcomes to operating a motor vehicle while being on a cell phone. Drivers should not be able to use cell phones in any capacity while operating a motor vehicle.\\n\\nOne leading cause to motor vehicle accidents is being on your cell phone. It could lead to accidents and altercations. Yourself and the passengers are more at risk to bodily injuries and harm. These bodily injuries and harm can range anywhere from mild to critical condition. In an motor vehicle accident there is more than one involved. There is another person or group of people that could have the exact same conditions than the driver on the cell phone. In an example of an altercations you could be more prone to damaging an building or such. An direct result of an event in place; a fee or very large payment would need to be made. Secondly another consequence could be having your license taken.\\n\\nWhen you have violated a driving law there will always be an consequence. Rather it being jail time, injuries, or more. Your license will be subjected to suspension. A suspended license defines as you are not able to drive until they are reinstated. The process can take anywhere from a short period of time or even a long period of time. The average time for a suspended license is sixty days.\\n\\nFor some people if it is not your first offense they may even take your license for good. Furthermore there is another cause to driving while being on your cell phone.\\n\\nAfter all the consequences the most detrimental is death. Many people happen to pass away due to a motor vehicle car accident. Not all people pass away at the crash site, some has a condition mild to critical that causes them to die. Around 1.6\\n\\nmillion people a year die in motor vehicle accidents. Out of the 1.6 million, 1 out of 4 pass away because drivers are on their cell phone. That includes the driver and the unlucky few that may have been in the car, around, or in another car. Passing away from a motor vehicle accident can be prevented by simply waiting until you have reached a stopping point or your at your destination to pick up your phone.\\n\\nIn conclusion, drivers should not be able to use cell phones in any capacity while operating a motor vehicle. It can cause accidents and altercations, suspension of license, and even death. Prevention is simply not being able to use your phone while operating a motor vehicle. Take a moment to focus on the road.\\n\\nYou are able to check your phone when you reach a red light or a complete stop. This is one step closer to its prevention. It will save many lives even your own.   '}, vector=None, shard_key=None),\n",
       " ScoredPoint(id=66, version=0, score=0.10755362054134762, payload={'text': \"I think people should participate in the Seagoing Cowboys program because the program is doing a good dead helping outhers in need when they most need it. Anouther good side of participating in this program is that you will see cool things go cool places like it said in the story you could go to China,over Seas,Greece,and Eroup. It would be fun and be for a good cause. To help people in need and to help many family's who lost there homes through war of there country and outhers. There would be danger going over seas chanses of falling over bord,cought in a storm, or even sea animal's. But it is all for a good cause to save outher peoples lives.\\n\\nI know i would risk my life if im saving outhers because thats the kind of person I am. Luke did it so why not you,if you decide to join be brave,stand tall,and never be to scard to try! Luke is brave enough to do it and so are you. You know what people say you cant learn anything untill you try so why not you could do somthing incredible for this world and the people in it. Everyone can make a differance no matter who you are all you have to do is try. If you wont to take action this is a good opertunity!\"}, vector=None, shard_key=None),\n",
       " ScoredPoint(id=43, version=0, score=0.10754802953767079, payload={'text': 'With the rise of technology in schools, many questions arise.\\n\\nOne major question is, would students benefit more from an online classroom setting, and video conference classes.\\n\\nOr would they benefit more from a normal classroom setting.\\n\\nI believe that most students would benefit more in a regular classroom setting, because the atmosphere in a normal classroom is completely different from one online, students also learn better with hands on learning and training.\\n\\nLastly, it seems for many of my classmates, including myself, that it is much easier to get work done for an \"in school\" class.\\n\\nBeing in a real classroom is completely different from an online classroom in many ways.\\n\\nI can tell you from experience being in a real classroom has benefited me in lots of ways.\\n\\nI\\'ve faced and overcome my fear of public speaking in a real classroom.\\n\\nI\\'ve also always been the one to retaliate when someone makes me mad, but being in a classroom with other students that pick on you and mess with you has taught me that not everyone and everything needs a response.\\n\\nI would dare say that being in a classroom setting has made me more mature, and has prepared me for the future.\\n\\nAlthough some students do well with passive learning; I believe most students do best by learning with hands on activities.\\n\\nI once read an article that had a statistic in it saying that 70 percent of students learn better with hands on activities.\\n\\nWhere only 30 percent learned better with passive learning.\\n\\nOnline classes prevent students from learning with hands on activities.\\n\\nI am in an AP Statistics class this year, and I do best when the teacher shows us what to do.\\n\\nI often do worse when he just gives us steps to follow, and then tells us to complete the task.\\n\\nI would also say that my fellow classmates agree with me.\\n\\nIn my history class, my teacher often teaches in a passive way.\\n\\nHe tells us what happened and doesn\\'t give us worksheets or classwork to do.\\n\\nHe stands up at the front of the classroom the entire class period, tells us about the certain unit we are on, then at the end of the period he gives us a homework assignment that we have to complete.\\n\\nI feel like that is much of online learning is like, and I can tell you that most of the kids in my class don\\'t do well with that type of learning.\\n\\nGetting work done for online classes is much harder compared to a classroom setting.\\n\\nIn some online courses you don\\'t have to do your classwork by a certain time of the day.\\n\\nYou just have to have it done by a certain day of the week.\\n\\nI know how I procrastinate and how my classmates do the same thing, and I think being in a real classroom provides more motivation to get work done and succeed in the class.\\n\\nIt is also easier to review past concepts from previous classes in a classroom setting compared to an online classroom, because in real a classroom you can interact with other students and bring ideas to the teacher to review.\\n\\nIn online classes you may not always be able to do that.\\n\\nTo conclude, I do believe that some students learn better passively, but I also believe more students learn better in a classroom setting with hands on activities.\\n\\nStudents benefit from building relationships with their teachers, which turn into their mentors.\\n\\nStudents learn better by working together in groups, and in return that teaches them to work better with other people.\\n\\nFinally, being enrolled in an normal classroom provides more motivation for students to get their work done, and succeed in the class, which at the end of the day is the whole point of taking the class right?'}, vector=None, shard_key=None),\n",
       " ScoredPoint(id=89, version=0, score=0.10737366991656946, payload={'text': 'There are some schools that provide students the opportunity to learn with distance learning. There are various ways a student is able to take their classes from home, including video conferencing and online modules. Many people do not take the offer of distance learning. However, attending class from home benefits students by\\xa0providing\\xa0more efficient learning experiences, allowing them to focus on what they love, and growing their time management skills.\\n\\nSchool from home is more efficient than a physical school. At my high school, there are breaks built into the day: seven minutes after class, 30 minutes for lunch, and 30 minutes to relax. Over an hour of the day is used that does not benefit the education of a student. The time that is used for these breaks would be eliminated if a student took their classes from home. A student taking the course online would finish with the same knowledge as a student that is not; however, they will finish faster. The elimination of unnecessary breaks makes the learning experience more efficient.\\n\\nAs the student has a more efficient learning experience, they have more time to do things they love. My friend Generic_Name, for example, is a Youth Olympics speed skater who has been taking online classes for four years. Taking online school provides Generic_Name the time to dedicate his efforts into speed skating. Without the opportunity of online school, he would not be as successful as he is now. With the extra time that comes with online school, any person has the opportunity to thrive in what they are passionate in.\\n\\nSome people may claim that online school makes a student lazy because they will procrastinate. However, as a student takes their classes from home, they build beneficial time management skills. In high school, for example, I took an online course for personal finance and economics. There was work due every week; however, all of the assignments were officially due at the end of the school year. Splitting up the work every week until the final deadline helped build the time management skills needed for success in the future. Additionally, the online course provided students with a general guide to split up work to help them manage their time. This helps build a foundation to grow time management skills. Online school, overall, has deadlines and tools that help a student build time management skills.\\n\\nOnline school is an opportunity that will help the student thrive. It cuts out factors in a physical school that do not help the education of a student. With those factors, like unnecessary\\xa0breaks, eliminated, there is more time for the learners to thrive in other areas. Additionally, online school provides a foundation for the students to learn more important life skills, like time management. From the various impacts from attending classes from home, the students will benefit from the experience of an online school.'}, vector=None, shard_key=None),\n",
       " ScoredPoint(id=63, version=0, score=0.10479123640984464, payload={'text': 'How did the author suppored his idea?\\n\\nThe author supports his idea of \" Studying Venus is a worthy pursuit despite the dangers\" by explaining how dangerous Venus is. Some examples of what the author said about how dangerous is to explore Venous are;\\n\\n\" A thick atmosphere of Almost 97 percent of carbon dioxide blankets Venus\". \"Even more challenging are the clouds of highly corrosive sulfuric acid in Venus\\'d atmosphere\". \" Venus has the hottests surface temperature of any in oure solar system, even though Mercury is the closer to our sun\".\\n\\nOne of the reasons that the author said why \"studying Venus is a worthy pursuit despite the dangers\" is, \" A thick Atmosphere of Almost 97 percent of carbon dioxide blankets Vanus\" which meants that it make dangerous for the people who wants to go explore to Venus to past the atmosphere of Venus, another reason that can make dangerous for the people to past Venus\\'s atmosphere is, \"Even more challenging are the clouds of highly corrosive sulfuric acid in Venus\\'s atmosphere. One more reason about why is dangerous for the who people wants to explore Venus is \" Venushas the hottest surface temperature of any in our solar system, even thoug Mercury is the closest to our sun\" this means that the hottest of Vanus can put in risk the health of the people who wants to study the land.\\n\\nIn conclution, the author supported well his Idea about studying Venus is a \" worthy pursuit despite the dangers\" by explaining the dangers of trying to go through the atmosphere, the dangers of land in Venus and how can land in vanus can put in risk the health of th epeople who wants to earn knolledge about Venus.      '}, vector=None, shard_key=None),\n",
       " ScoredPoint(id=41, version=0, score=0.10445512905614505, payload={'text': \"Dear Principal,\\n\\nI'm writing you this letter because\\n\\nI think that the policy that you should use is the first policy because students should be able to use there cell phones during lunch periods and during free times. This allows students to contact their parents if they need anything or if they have an emergency. Some students think it seems easier if they're allowed to use there cell phones during lunch periods and during free times because maybe out of nowhere they need lunch money or they don't feel good they can just use there cell phones to call or text their parents because they already have there cell phones with them so they don't have to go to the office and use there phone when they can just use there's with them. I think that the first policy is the best policy, so you consider which policy seems right to you. Thank you for your time. (:\\n\\nSincerely,\\n\\n-STUDENT_NAME. (:\"}, vector=None, shard_key=None),\n",
       " ScoredPoint(id=16, version=0, score=0.1007460109042295, payload={'text': 'I agree with it because everyone has to do something productive in school and playing a sport is good for our health, yearbook writing is good for our spelling, and serving in a student council makes you be more confident and talk more with other people.\\n\\nPlaying a sport is the best way to make our bodies stronger and healthy, it also helps us mentally when you are going through times going outside and playing helps you a lot. Playing a sport in school helps you have more energy and be ready to learn it likes opens your mind. Soccer for example is helps your body be stronger, Volleyball helps your hands be more stronger, Basketball helps you jump higher, and Football helps you run faster.\\n\\nWriting or coloring the yearbook is a great idea too, because you are writing something that everyone is going to see so i know you gonna write neat and correctly. Coloring is good for our brains too it helps us be calm and out of stress. Spelling is one of the most important things and writing helps it improved it, coloring is something that not everyone knows how to do it, but by practicing we are gonna learn.\\n\\nServing in a student council helps you a lot because you learn something very important and thats learning how to communicate with other people and be nice. Sometimes its hard to communicate or talk to other people but we have to do it because sometimes the people needs someone to talk to and someone to be there for them. Helping to helping is a best thing you can do maybe you are not getting something from it but at least your being a helper.\\n\\nIn conclusion I think that everyone has to do something is school it doesnt matter what but we have to. School is not just for learning and being bored in class, school is for you to be happy and confortle with everything, we can make school fun.'}, vector=None, shard_key=None)]"
      ]
     },
     "execution_count": 109,
     "metadata": {},
     "output_type": "execute_result"
    }
   ],
   "source": [
    "results"
   ]
  },
  {
   "cell_type": "code",
   "execution_count": 17,
   "id": "eee9a590423d6ec4",
   "metadata": {
    "ExecuteTime": {
     "end_time": "2024-04-13T04:42:55.504820Z",
     "start_time": "2024-04-13T04:42:55.502220Z"
    },
    "collapsed": false
   },
   "outputs": [],
   "source": []
  }
 ],
 "metadata": {
  "kernelspec": {
   "display_name": "Python 3",
   "language": "python",
   "name": "python3"
  },
  "language_info": {
   "codemirror_mode": {
    "name": "ipython",
    "version": 2
   },
   "file_extension": ".py",
   "mimetype": "text/x-python",
   "name": "python",
   "nbconvert_exporter": "python",
   "pygments_lexer": "ipython2",
   "version": "2.7.6"
  }
 },
 "nbformat": 4,
 "nbformat_minor": 5
}
